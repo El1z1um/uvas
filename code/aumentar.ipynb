{
 "cells": [
  {
   "cell_type": "code",
   "execution_count": 2,
   "metadata": {},
   "outputs": [
    {
     "name": "stdout",
     "output_type": "stream",
     "text": [
      "Initialised with 3248 image(s) found.\n",
      "Output directory set to /Users/baudi/AI/practicas/uvas/data/train_val/output."
     ]
    },
    {
     "name": "stderr",
     "output_type": "stream",
     "text": [
      "Processing <PIL.Image.Image image mode=RGB size=256x256 at 0x12BB25C30>: 100%|██████████| 10000/10000 [00:10<00:00, 937.43 Samples/s]                  \n"
     ]
    }
   ],
   "source": [
    "import Augmentor\n",
    "import os\n",
    "\n",
    "# Especifica el directorio que contiene las imágenes originales\n",
    "orig_dir = \"/Users/baudi/AI/practicas/uvas/data/train_val/\"\n",
    "\n",
    "# Crea un objeto pipeline con las transformaciones que deseas aplicar\n",
    "pipeline = Augmentor.Pipeline(orig_dir)\n",
    "#pipeline.resize(probability=1.0, width=150, height=150)  # Cambia el tamaño de la imagen a (224, 224)\n",
    "pipeline.zoom(probability=0.5, min_factor=0.5, max_factor=1.5)  # Aplica un zoom aleatorio entre 0.5 y 1.5\n",
    "pipeline.rotate_random_90(probability=0.5)  # Aplica una rotación aleatoria de 0, 90, 180 o 270 grados\n",
    "pipeline.flip_left_right(probability=0.5)  # Aplica un volteo horizontal aleatorio\n",
    "pipeline.flip_top_bottom(probability=0.5)  # Aplica un volteo vertical aleatorio\n",
    "pipeline.random_brightness(probability=0.5, min_factor=0.5, max_factor=1.5)  # Ajusta el brillo aleatoriamente en un rango de 0.5 a 1.5\n",
    "pipeline.random_contrast(probability=0.5, min_factor=0.5, max_factor=2.0)  # Ajusta el contraste aleatoriamente en un rango de 0.5 a 2.0\n",
    "\n",
    "# Especifica el número de imágenes que deseas generar para cada imagen original\n",
    "n_aumento = 10000\n",
    "\n",
    "# Ejecuta el pipeline y genera las imágenes aumentadas\n",
    "pipeline.sample(n_aumento)"
   ]
  }
 ],
 "metadata": {
  "kernelspec": {
   "display_name": "base",
   "language": "python",
   "name": "python3"
  },
  "language_info": {
   "codemirror_mode": {
    "name": "ipython",
    "version": 3
   },
   "file_extension": ".py",
   "mimetype": "text/x-python",
   "name": "python",
   "nbconvert_exporter": "python",
   "pygments_lexer": "ipython3",
   "version": "3.10.9"
  },
  "orig_nbformat": 4
 },
 "nbformat": 4,
 "nbformat_minor": 2
}
