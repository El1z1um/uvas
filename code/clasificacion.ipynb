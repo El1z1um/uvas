{
 "cells": [
  {
   "attachments": {},
   "cell_type": "markdown",
   "metadata": {},
   "source": [
    "### Se importan las librerías necesarias para realizar la clasificación"
   ]
  },
  {
   "cell_type": "code",
   "execution_count": 1,
   "metadata": {},
   "outputs": [],
   "source": [
    "import os\n",
    "import numpy as np\n",
    "import tensorflow as tf\n",
    "from tensorflow.keras.preprocessing.image import ImageDataGenerator\n",
    "from tensorflow.keras.applications import EfficientNetB0\n",
    "from tensorflow.keras.layers import GlobalAveragePooling2D, Dense, Dropout\n",
    "from tensorflow.keras.models import Model\n",
    "from tensorflow.keras.optimizers.legacy import Adam\n",
    "from sklearn.metrics import classification_report, confusion_matrix"
   ]
  },
  {
   "cell_type": "code",
   "execution_count": 2,
   "metadata": {},
   "outputs": [],
   "source": [
    "import tensorflow as tf\n",
    "\n",
    "gpus = tf.config.experimental.list_physical_devices('GPU')\n",
    "if gpus:\n",
    "    try:\n",
    "        for gpu in gpus:\n",
    "            tf.config.experimental.set_memory_growth(gpu, True)\n",
    "    except RuntimeError as e:\n",
    "        print(e)\n"
   ]
  },
  {
   "cell_type": "code",
   "execution_count": 4,
   "metadata": {},
   "outputs": [],
   "source": [
    "# Parámetros\n",
    "img_size = 256  # Tamaño de la imagen ajustado a 256x256\n",
    "batch_size = 32\n",
    "num_classes = 4\n",
    "epochs = 20\n",
    "learning_rate = 0.0001\n",
    "data_dir = '/Users/baudi/AI/practicas/uvas/data'  # Carpeta principal de datos"
   ]
  },
  {
   "cell_type": "code",
   "execution_count": 5,
   "metadata": {},
   "outputs": [],
   "source": [
    "# Directorios\n",
    "train_dir = os.path.join(data_dir, 'train')\n",
    "val_dir = os.path.join(data_dir, 'val')\n",
    "test_dir = os.path.join(data_dir, 'test')"
   ]
  },
  {
   "cell_type": "code",
   "execution_count": 6,
   "metadata": {},
   "outputs": [],
   "source": [
    "# Generadores de datos con aumentación\n",
    "train_datagen = ImageDataGenerator(\n",
    "    rescale=1./255,\n",
    "    rotation_range=20,\n",
    "    width_shift_range=0.2,\n",
    "    height_shift_range=0.2,\n",
    "    horizontal_flip=True,\n",
    "    zoom_range=0.2\n",
    ")\n",
    "\n",
    "val_datagen = ImageDataGenerator(rescale=1./255)"
   ]
  },
  {
   "attachments": {},
   "cell_type": "markdown",
   "metadata": {},
   "source": [
    "### Generador de imágenes de entrenamiento"
   ]
  },
  {
   "cell_type": "code",
   "execution_count": 7,
   "metadata": {},
   "outputs": [
    {
     "name": "stdout",
     "output_type": "stream",
     "text": [
      "Found 2843 images belonging to 4 classes.\n"
     ]
    }
   ],
   "source": [
    "train_generator = train_datagen.flow_from_directory(\n",
    "    train_dir,\n",
    "    target_size=(img_size, img_size),\n",
    "    batch_size=batch_size,\n",
    "    class_mode='categorical'\n",
    ")"
   ]
  },
  {
   "attachments": {},
   "cell_type": "markdown",
   "metadata": {},
   "source": [
    "### Generador de imágenes de validación"
   ]
  },
  {
   "cell_type": "code",
   "execution_count": 8,
   "metadata": {},
   "outputs": [
    {
     "name": "stdout",
     "output_type": "stream",
     "text": [
      "Found 608 images belonging to 4 classes.\n"
     ]
    }
   ],
   "source": [
    "val_generator = val_datagen.flow_from_directory(\n",
    "    val_dir,\n",
    "    target_size=(img_size, img_size),\n",
    "    batch_size=batch_size,\n",
    "    class_mode='categorical',\n",
    "    shuffle=False\n",
    ")"
   ]
  },
  {
   "cell_type": "code",
   "execution_count": 9,
   "metadata": {},
   "outputs": [
    {
     "name": "stdout",
     "output_type": "stream",
     "text": [
      "Metal device set to: Apple M2 Pro\n",
      "\n",
      "systemMemory: 32.00 GB\n",
      "maxCacheSize: 10.67 GB\n",
      "\n"
     ]
    },
    {
     "name": "stderr",
     "output_type": "stream",
     "text": [
      "2023-04-02 18:19:54.215069: I tensorflow/core/common_runtime/pluggable_device/pluggable_device_factory.cc:306] Could not identify NUMA node of platform GPU ID 0, defaulting to 0. Your kernel may not have been built with NUMA support.\n",
      "2023-04-02 18:19:54.215104: I tensorflow/core/common_runtime/pluggable_device/pluggable_device_factory.cc:272] Created TensorFlow device (/job:localhost/replica:0/task:0/device:GPU:0 with 0 MB memory) -> physical PluggableDevice (device: 0, name: METAL, pci bus id: <undefined>)\n"
     ]
    }
   ],
   "source": [
    "# Creación del modelo utilizando EfficientNetB0 con pesos preentrenados en ImageNet\n",
    "base_model = EfficientNetB0(weights='imagenet', include_top=False, input_shape=(img_size, img_size, 3))\n",
    "x = base_model.output\n",
    "x = GlobalAveragePooling2D()(x)  # Reducción de dimensiones utilizando promedio global\n",
    "x = Dense(128, activation='relu')(x)  # Capa densa con 128 neuronas y activación ReLU\n",
    "x = Dropout(0.2)(x)  # Capa de dropout para prevenir sobreajuste\n",
    "predictions = Dense(num_classes, activation='softmax')(x)  # Capa de salida con función de activación softmax\n",
    "model = Model(inputs=base_model.input, outputs=predictions)"
   ]
  },
  {
   "cell_type": "code",
   "execution_count": 10,
   "metadata": {},
   "outputs": [],
   "source": [
    "# Congelar capas base para utilizar transfer learning\n",
    "for layer in base_model.layers:\n",
    "    layer.trainable = False"
   ]
  },
  {
   "cell_type": "code",
   "execution_count": 11,
   "metadata": {},
   "outputs": [],
   "source": [
    "# Compilación del modelo con optimizador Adam, pérdida de entropía cruzada categórica y métrica de precisión\n",
    "model.compile(optimizer=Adam(learning_rate=learning_rate), loss='categorical_crossentropy', metrics=['accuracy'])\n"
   ]
  },
  {
   "cell_type": "code",
   "execution_count": 12,
   "metadata": {},
   "outputs": [
    {
     "name": "stdout",
     "output_type": "stream",
     "text": [
      "Epoch 1/20\n"
     ]
    },
    {
     "name": "stderr",
     "output_type": "stream",
     "text": [
      "2023-04-02 18:20:07.150706: W tensorflow/tsl/platform/profile_utils/cpu_utils.cc:128] Failed to get CPU frequency: 0 Hz\n",
      "2023-04-02 18:20:09.342833: I tensorflow/core/grappler/optimizers/custom_graph_optimizer_registry.cc:114] Plugin optimizer for device_type GPU is enabled.\n"
     ]
    },
    {
     "name": "stdout",
     "output_type": "stream",
     "text": [
      "89/89 [==============================] - ETA: 0s - loss: 1.3257 - accuracy: 0.3204"
     ]
    },
    {
     "name": "stderr",
     "output_type": "stream",
     "text": [
      "2023-04-02 18:20:29.713280: I tensorflow/core/grappler/optimizers/custom_graph_optimizer_registry.cc:114] Plugin optimizer for device_type GPU is enabled.\n"
     ]
    },
    {
     "name": "stdout",
     "output_type": "stream",
     "text": [
      "89/89 [==============================] - 25s 244ms/step - loss: 1.3257 - accuracy: 0.3204 - val_loss: 1.3173 - val_accuracy: 0.3405\n",
      "Epoch 2/20\n",
      "89/89 [==============================] - 20s 229ms/step - loss: 1.3182 - accuracy: 0.3327 - val_loss: 1.3151 - val_accuracy: 0.3405\n",
      "Epoch 3/20\n",
      "89/89 [==============================] - 21s 230ms/step - loss: 1.3220 - accuracy: 0.3204 - val_loss: 1.3139 - val_accuracy: 0.3405\n",
      "Epoch 4/20\n",
      "89/89 [==============================] - 21s 233ms/step - loss: 1.3198 - accuracy: 0.3306 - val_loss: 1.3176 - val_accuracy: 0.3405\n",
      "Epoch 5/20\n",
      "89/89 [==============================] - 21s 230ms/step - loss: 1.3187 - accuracy: 0.3338 - val_loss: 1.3141 - val_accuracy: 0.3405\n",
      "Epoch 6/20\n",
      "89/89 [==============================] - 21s 231ms/step - loss: 1.3190 - accuracy: 0.3254 - val_loss: 1.3129 - val_accuracy: 0.3405\n",
      "Epoch 7/20\n",
      "89/89 [==============================] - 21s 230ms/step - loss: 1.3181 - accuracy: 0.3296 - val_loss: 1.3148 - val_accuracy: 0.3405\n",
      "Epoch 8/20\n",
      "89/89 [==============================] - 21s 231ms/step - loss: 1.3162 - accuracy: 0.3349 - val_loss: 1.3150 - val_accuracy: 0.3405\n",
      "Epoch 9/20\n",
      "89/89 [==============================] - 21s 231ms/step - loss: 1.3165 - accuracy: 0.3303 - val_loss: 1.3133 - val_accuracy: 0.3405\n",
      "Epoch 10/20\n",
      "89/89 [==============================] - 21s 231ms/step - loss: 1.3146 - accuracy: 0.3370 - val_loss: 1.3151 - val_accuracy: 0.3405\n",
      "Epoch 11/20\n",
      "89/89 [==============================] - 21s 231ms/step - loss: 1.3178 - accuracy: 0.3261 - val_loss: 1.3142 - val_accuracy: 0.3405\n",
      "Epoch 12/20\n",
      "89/89 [==============================] - 21s 231ms/step - loss: 1.3167 - accuracy: 0.3440 - val_loss: 1.3147 - val_accuracy: 0.3405\n",
      "Epoch 13/20\n",
      "89/89 [==============================] - 21s 232ms/step - loss: 1.3174 - accuracy: 0.3222 - val_loss: 1.3129 - val_accuracy: 0.3405\n",
      "Epoch 14/20\n",
      "89/89 [==============================] - 21s 230ms/step - loss: 1.3163 - accuracy: 0.3384 - val_loss: 1.3135 - val_accuracy: 0.3405\n",
      "Epoch 15/20\n",
      "89/89 [==============================] - 21s 230ms/step - loss: 1.3165 - accuracy: 0.3401 - val_loss: 1.3127 - val_accuracy: 0.3405\n",
      "Epoch 16/20\n",
      "89/89 [==============================] - 21s 230ms/step - loss: 1.3163 - accuracy: 0.3384 - val_loss: 1.3139 - val_accuracy: 0.3405\n",
      "Epoch 17/20\n",
      "89/89 [==============================] - 21s 230ms/step - loss: 1.3153 - accuracy: 0.3398 - val_loss: 1.3133 - val_accuracy: 0.3405\n",
      "Epoch 18/20\n",
      "89/89 [==============================] - 20s 229ms/step - loss: 1.3156 - accuracy: 0.3412 - val_loss: 1.3131 - val_accuracy: 0.3405\n",
      "Epoch 19/20\n",
      "89/89 [==============================] - 21s 230ms/step - loss: 1.3171 - accuracy: 0.3412 - val_loss: 1.3141 - val_accuracy: 0.3405\n",
      "Epoch 20/20\n",
      "89/89 [==============================] - 21s 231ms/step - loss: 1.3151 - accuracy: 0.3415 - val_loss: 1.3132 - val_accuracy: 0.3405\n"
     ]
    }
   ],
   "source": [
    "# Entrenamiento y validación del modelo\n",
    "history = model.fit(\n",
    "    train_generator,\n",
    "    epochs=epochs,\n",
    "    validation_data=val_generator\n",
    ")"
   ]
  },
  {
   "cell_type": "code",
   "execution_count": 13,
   "metadata": {},
   "outputs": [
    {
     "name": "stdout",
     "output_type": "stream",
     "text": [
      "Found 611 images belonging to 4 classes.\n"
     ]
    }
   ],
   "source": [
    "# Evaluación en el conjunto de test\n",
    "test_datagen = ImageDataGenerator(rescale=1./255)\n",
    "test_generator = test_datagen.flow_from_directory(\n",
    "    test_dir,\n",
    "    target_size=(img_size, img_size),\n",
    "    batch_size=batch_size,\n",
    "    class_mode='categorical',\n",
    "    shuffle=False\n",
    ")"
   ]
  },
  {
   "cell_type": "code",
   "execution_count": 14,
   "metadata": {},
   "outputs": [
    {
     "name": "stdout",
     "output_type": "stream",
     "text": [
      "20/20 [==============================] - 3s 147ms/step - loss: 1.3144 - accuracy: 0.3404\n",
      "Test accuracy: 0.3404255509376526\n"
     ]
    }
   ],
   "source": [
    "test_loss, test_acc = model.evaluate(test_generator)\n",
    "print(f'Test accuracy: {test_acc}')"
   ]
  },
  {
   "cell_type": "code",
   "execution_count": 15,
   "metadata": {},
   "outputs": [
    {
     "name": "stderr",
     "output_type": "stream",
     "text": [
      "2023-04-02 18:34:38.125855: I tensorflow/core/grappler/optimizers/custom_graph_optimizer_registry.cc:114] Plugin optimizer for device_type GPU is enabled.\n"
     ]
    },
    {
     "name": "stdout",
     "output_type": "stream",
     "text": [
      "20/20 [==============================] - 4s 140ms/step\n",
      "Classification Report:\n",
      "                            precision    recall  f1-score   support\n",
      "\n",
      "         Grape___Black_rot       0.00      0.00      0.00       177\n",
      "Grape___Esca_Black_Measles       0.34      1.00      0.51       208\n",
      "       Grape___Leaf_blight       0.00      0.00      0.00       162\n",
      "           Grape___healthy       0.00      0.00      0.00        64\n",
      "\n",
      "                  accuracy                           0.34       611\n",
      "                 macro avg       0.09      0.25      0.13       611\n",
      "              weighted avg       0.12      0.34      0.17       611\n",
      "\n",
      "Confusion Matrix:\n",
      "[[  0 177   0   0]\n",
      " [  0 208   0   0]\n",
      " [  0 162   0   0]\n",
      " [  0  64   0   0]]\n"
     ]
    },
    {
     "name": "stderr",
     "output_type": "stream",
     "text": [
      "/Users/baudi/miniconda3/lib/python3.10/site-packages/sklearn/metrics/_classification.py:1344: UndefinedMetricWarning: Precision and F-score are ill-defined and being set to 0.0 in labels with no predicted samples. Use `zero_division` parameter to control this behavior.\n",
      "  _warn_prf(average, modifier, msg_start, len(result))\n",
      "/Users/baudi/miniconda3/lib/python3.10/site-packages/sklearn/metrics/_classification.py:1344: UndefinedMetricWarning: Precision and F-score are ill-defined and being set to 0.0 in labels with no predicted samples. Use `zero_division` parameter to control this behavior.\n",
      "  _warn_prf(average, modifier, msg_start, len(result))\n",
      "/Users/baudi/miniconda3/lib/python3.10/site-packages/sklearn/metrics/_classification.py:1344: UndefinedMetricWarning: Precision and F-score are ill-defined and being set to 0.0 in labels with no predicted samples. Use `zero_division` parameter to control this behavior.\n",
      "  _warn_prf(average, modifier, msg_start, len(result))\n"
     ]
    }
   ],
   "source": [
    "# Matriz de confusión y métricas adicionales\n",
    "Y_pred = model.predict(test_generator)\n",
    "y_pred = np.argmax(Y_pred, axis=1)\n",
    "\n",
    "print('Classification Report:')\n",
    "print(classification_report(test_generator.classes, y_pred, target_names=test_generator.class_indices.keys()))\n",
    "\n",
    "print('Confusion Matrix:')\n",
    "print(confusion_matrix(test_generator.classes, y_pred))"
   ]
  }
 ],
 "metadata": {
  "kernelspec": {
   "display_name": "base",
   "language": "python",
   "name": "python3"
  },
  "language_info": {
   "codemirror_mode": {
    "name": "ipython",
    "version": 3
   },
   "file_extension": ".py",
   "mimetype": "text/x-python",
   "name": "python",
   "nbconvert_exporter": "python",
   "pygments_lexer": "ipython3",
   "version": "3.10.9"
  },
  "orig_nbformat": 4
 },
 "nbformat": 4,
 "nbformat_minor": 2
}
