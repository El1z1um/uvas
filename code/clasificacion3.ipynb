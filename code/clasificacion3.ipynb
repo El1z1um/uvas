{
 "cells": [
  {
   "cell_type": "code",
   "execution_count": 1,
   "metadata": {},
   "outputs": [],
   "source": [
    "import numpy as np\n",
    "import tensorflow as tf\n",
    "from tensorflow import keras\n",
    "from tensorflow.keras.models import Sequential\n",
    "from tensorflow.keras.layers import Conv2D, MaxPooling2D, Dense, Flatten, Dropout, BatchNormalization\n",
    "from tensorflow.keras.optimizers.legacy import Adam\n",
    "from tensorflow.keras.optimizers.legacy import SGD\n",
    "from tensorflow.keras.preprocessing.image import ImageDataGenerator\n",
    "from sklearn.metrics import classification_report, confusion_matrix\n",
    "\n"
   ]
  },
  {
   "cell_type": "code",
   "execution_count": 2,
   "metadata": {},
   "outputs": [
    {
     "name": "stdout",
     "output_type": "stream",
     "text": [
      "Found 2600 images belonging to 4 classes.\n",
      "Found 648 images belonging to 4 classes.\n",
      "Found 814 images belonging to 4 classes.\n"
     ]
    }
   ],
   "source": [
    "train_datagen = ImageDataGenerator(rescale=1./255,\n",
    "                                   shear_range=0.2,\n",
    "                                   zoom_range=0.2,\n",
    "                                   horizontal_flip=True,\n",
    "                                   validation_split=0.2)  # Split del 20% para validación\n",
    "\n",
    "train_data = train_datagen.flow_from_directory('/Users/baudi/AI/practicas/uvas/data/train_val/',\n",
    "                                               target_size=(150, 150),\n",
    "                                               batch_size=32,\n",
    "                                               seed=42,\n",
    "                                               shuffle=True,\n",
    "                                               class_mode='categorical',\n",
    "                                               subset='training')\n",
    "\n",
    "validation_data = train_datagen.flow_from_directory('/Users/baudi/AI/practicas/uvas/data/train_val/',\n",
    "                                                    target_size=(150, 150),\n",
    "                                                    batch_size=32,\n",
    "                                                    seed=42,\n",
    "                                                    shuffle=True,\n",
    "                                                    class_mode='categorical',\n",
    "                                                    subset='validation')\n",
    "\n",
    "\n",
    "# Carga y prepara los datos de prueba\n",
    "test_datagen = ImageDataGenerator(rescale=1./255)\n",
    "\n",
    "test_data = test_datagen.flow_from_directory('/Users/baudi/AI/practicas/uvas/data/test/',\n",
    "                                             target_size=(150, 150),\n",
    "                                             batch_size=32,\n",
    "                                             class_mode='categorical',\n",
    "                                             shuffle=False)  # No es necesario barajar las imágenes de prueba\n",
    "\n",
    "\n"
   ]
  },
  {
   "cell_type": "code",
   "execution_count": 3,
   "metadata": {},
   "outputs": [
    {
     "name": "stdout",
     "output_type": "stream",
     "text": [
      "Metal device set to: Apple M2 Pro\n",
      "\n",
      "systemMemory: 32.00 GB\n",
      "maxCacheSize: 10.67 GB\n",
      "\n"
     ]
    },
    {
     "name": "stderr",
     "output_type": "stream",
     "text": [
      "2023-04-05 23:48:53.460475: I tensorflow/core/common_runtime/pluggable_device/pluggable_device_factory.cc:305] Could not identify NUMA node of platform GPU ID 0, defaulting to 0. Your kernel may not have been built with NUMA support.\n",
      "2023-04-05 23:48:53.460622: I tensorflow/core/common_runtime/pluggable_device/pluggable_device_factory.cc:271] Created TensorFlow device (/job:localhost/replica:0/task:0/device:GPU:0 with 0 MB memory) -> physical PluggableDevice (device: 0, name: METAL, pci bus id: <undefined>)\n"
     ]
    }
   ],
   "source": [
    "model = Sequential([\n",
    "    Conv2D(32, (3, 3), activation='relu', input_shape=(150, 150, 3)),\n",
    "    BatchNormalization(),\n",
    "    MaxPooling2D(pool_size=(2, 2)),\n",
    "    \n",
    "    Conv2D(64, (3, 3), activation='relu'),\n",
    "    BatchNormalization(),\n",
    "    MaxPooling2D(pool_size=(2, 2)),\n",
    "    \n",
    "    Conv2D(128, (3, 3), activation='relu'),\n",
    "    BatchNormalization(),\n",
    "    MaxPooling2D(pool_size=(2, 2)),\n",
    "\n",
    "    Conv2D(256, (3, 3), activation='relu'),\n",
    "    BatchNormalization(),\n",
    "    MaxPooling2D(pool_size=(2, 2)),\n",
    "\n",
    "    Conv2D(512, (3, 3), activation='relu'),\n",
    "    BatchNormalization(),\n",
    "    MaxPooling2D(pool_size=(2, 2)),\n",
    "\n",
    "    Flatten(),\n",
    "    Dense(1024, activation='relu'),\n",
    "    BatchNormalization(),\n",
    "    Dropout(0.5),\n",
    "    Dense(4, activation='softmax')  # 4 clases: sanas, enfermedad1, enfermedad2, enfermedad3\n",
    "])\n",
    "\n",
    "model.compile(optimizer=Adam(learning_rate=0.0001),\n",
    "              loss='categorical_crossentropy',\n",
    "              metrics=['accuracy'])\n"
   ]
  },
  {
   "cell_type": "code",
   "execution_count": 4,
   "metadata": {},
   "outputs": [
    {
     "name": "stdout",
     "output_type": "stream",
     "text": [
      "Epoch 1/50\n"
     ]
    },
    {
     "name": "stderr",
     "output_type": "stream",
     "text": [
      "2023-04-05 23:48:53.813300: W tensorflow/core/platform/profile_utils/cpu_utils.cc:128] Failed to get CPU frequency: 0 Hz\n",
      "2023-04-05 23:48:54.146479: I tensorflow/core/grappler/optimizers/custom_graph_optimizer_registry.cc:113] Plugin optimizer for device_type GPU is enabled.\n"
     ]
    },
    {
     "name": "stdout",
     "output_type": "stream",
     "text": [
      "82/82 [==============================] - ETA: 0s - loss: 0.8098 - accuracy: 0.7381"
     ]
    },
    {
     "name": "stderr",
     "output_type": "stream",
     "text": [
      "2023-04-05 23:49:01.186813: I tensorflow/core/grappler/optimizers/custom_graph_optimizer_registry.cc:113] Plugin optimizer for device_type GPU is enabled.\n"
     ]
    },
    {
     "name": "stdout",
     "output_type": "stream",
     "text": [
      "82/82 [==============================] - 9s 102ms/step - loss: 0.8098 - accuracy: 0.7381 - val_loss: 2.3201 - val_accuracy: 0.2654\n",
      "Epoch 2/50\n",
      "82/82 [==============================] - 8s 97ms/step - loss: 0.4141 - accuracy: 0.8531 - val_loss: 5.7623 - val_accuracy: 0.1034\n",
      "Epoch 3/50\n",
      "82/82 [==============================] - 8s 98ms/step - loss: 0.2937 - accuracy: 0.9042 - val_loss: 7.9558 - val_accuracy: 0.1034\n",
      "Epoch 4/50\n",
      "82/82 [==============================] - 8s 99ms/step - loss: 0.2668 - accuracy: 0.9038 - val_loss: 10.7650 - val_accuracy: 0.1034\n",
      "Epoch 5/50\n",
      "82/82 [==============================] - 8s 102ms/step - loss: 0.2334 - accuracy: 0.9150 - val_loss: 9.7831 - val_accuracy: 0.1235\n",
      "Epoch 6/50\n",
      "82/82 [==============================] - 8s 100ms/step - loss: 0.1895 - accuracy: 0.9354 - val_loss: 6.6915 - val_accuracy: 0.2346\n",
      "Epoch 7/50\n",
      "82/82 [==============================] - 8s 100ms/step - loss: 0.1504 - accuracy: 0.9454 - val_loss: 4.6799 - val_accuracy: 0.3873\n",
      "Epoch 8/50\n",
      "82/82 [==============================] - 8s 101ms/step - loss: 0.1611 - accuracy: 0.9477 - val_loss: 1.2597 - val_accuracy: 0.6481\n",
      "Epoch 9/50\n",
      "82/82 [==============================] - 8s 102ms/step - loss: 0.1303 - accuracy: 0.9542 - val_loss: 0.5027 - val_accuracy: 0.8488\n",
      "Epoch 10/50\n",
      "82/82 [==============================] - 8s 101ms/step - loss: 0.1158 - accuracy: 0.9592 - val_loss: 0.1654 - val_accuracy: 0.9522\n",
      "Epoch 11/50\n",
      "82/82 [==============================] - 8s 101ms/step - loss: 0.1331 - accuracy: 0.9542 - val_loss: 0.1405 - val_accuracy: 0.9506\n",
      "Epoch 12/50\n",
      "82/82 [==============================] - 8s 102ms/step - loss: 0.0964 - accuracy: 0.9654 - val_loss: 0.2111 - val_accuracy: 0.9336\n",
      "Epoch 13/50\n",
      "82/82 [==============================] - 8s 102ms/step - loss: 0.1150 - accuracy: 0.9654 - val_loss: 0.0874 - val_accuracy: 0.9753\n",
      "Epoch 14/50\n",
      "82/82 [==============================] - 8s 102ms/step - loss: 0.0968 - accuracy: 0.9673 - val_loss: 0.1203 - val_accuracy: 0.9630\n",
      "Epoch 15/50\n",
      "82/82 [==============================] - 8s 103ms/step - loss: 0.1037 - accuracy: 0.9619 - val_loss: 0.1928 - val_accuracy: 0.9352\n",
      "Epoch 16/50\n",
      "82/82 [==============================] - 8s 103ms/step - loss: 0.0988 - accuracy: 0.9654 - val_loss: 0.0951 - val_accuracy: 0.9537\n",
      "Epoch 17/50\n",
      "82/82 [==============================] - 8s 101ms/step - loss: 0.0840 - accuracy: 0.9688 - val_loss: 0.0878 - val_accuracy: 0.9645\n",
      "Epoch 18/50\n",
      "82/82 [==============================] - 8s 101ms/step - loss: 0.0875 - accuracy: 0.9685 - val_loss: 0.1172 - val_accuracy: 0.9645\n",
      "Epoch 19/50\n",
      "82/82 [==============================] - 8s 101ms/step - loss: 0.0727 - accuracy: 0.9750 - val_loss: 0.1012 - val_accuracy: 0.9707\n",
      "Epoch 20/50\n",
      "82/82 [==============================] - 8s 102ms/step - loss: 0.0652 - accuracy: 0.9792 - val_loss: 0.0772 - val_accuracy: 0.9799\n",
      "Epoch 21/50\n",
      "82/82 [==============================] - 8s 102ms/step - loss: 0.0650 - accuracy: 0.9746 - val_loss: 0.1733 - val_accuracy: 0.9475\n",
      "Epoch 22/50\n",
      "82/82 [==============================] - 8s 102ms/step - loss: 0.0598 - accuracy: 0.9777 - val_loss: 0.1493 - val_accuracy: 0.9645\n",
      "Epoch 23/50\n",
      "82/82 [==============================] - 8s 103ms/step - loss: 0.0775 - accuracy: 0.9735 - val_loss: 0.1755 - val_accuracy: 0.9630\n",
      "Epoch 24/50\n",
      "82/82 [==============================] - 8s 102ms/step - loss: 0.0351 - accuracy: 0.9865 - val_loss: 0.2129 - val_accuracy: 0.9475\n",
      "Epoch 25/50\n",
      "82/82 [==============================] - 8s 101ms/step - loss: 0.0652 - accuracy: 0.9769 - val_loss: 0.2061 - val_accuracy: 0.9475\n",
      "Epoch 26/50\n",
      "82/82 [==============================] - 8s 102ms/step - loss: 0.0398 - accuracy: 0.9831 - val_loss: 0.2020 - val_accuracy: 0.9491\n",
      "Epoch 27/50\n",
      "82/82 [==============================] - 9s 104ms/step - loss: 0.0811 - accuracy: 0.9712 - val_loss: 0.0825 - val_accuracy: 0.9815\n",
      "Epoch 28/50\n",
      "82/82 [==============================] - 8s 102ms/step - loss: 0.0536 - accuracy: 0.9815 - val_loss: 0.0685 - val_accuracy: 0.9753\n",
      "Epoch 29/50\n",
      "82/82 [==============================] - 8s 101ms/step - loss: 0.0520 - accuracy: 0.9842 - val_loss: 0.0863 - val_accuracy: 0.9707\n",
      "Epoch 30/50\n",
      "82/82 [==============================] - 8s 101ms/step - loss: 0.0425 - accuracy: 0.9838 - val_loss: 0.1538 - val_accuracy: 0.9630\n",
      "Epoch 31/50\n",
      "82/82 [==============================] - 8s 102ms/step - loss: 0.0239 - accuracy: 0.9904 - val_loss: 0.0996 - val_accuracy: 0.9660\n",
      "Epoch 32/50\n",
      "82/82 [==============================] - 8s 102ms/step - loss: 0.0339 - accuracy: 0.9892 - val_loss: 0.0911 - val_accuracy: 0.9815\n",
      "Epoch 33/50\n",
      "82/82 [==============================] - 9s 104ms/step - loss: 0.0354 - accuracy: 0.9869 - val_loss: 0.0862 - val_accuracy: 0.9722\n",
      "Epoch 34/50\n",
      "82/82 [==============================] - 8s 101ms/step - loss: 0.0630 - accuracy: 0.9796 - val_loss: 0.6837 - val_accuracy: 0.8071\n",
      "Epoch 35/50\n",
      "82/82 [==============================] - 8s 101ms/step - loss: 0.0471 - accuracy: 0.9835 - val_loss: 0.0401 - val_accuracy: 0.9861\n",
      "Epoch 36/50\n",
      "82/82 [==============================] - 9s 104ms/step - loss: 0.0404 - accuracy: 0.9850 - val_loss: 0.1153 - val_accuracy: 0.9630\n",
      "Epoch 37/50\n",
      "82/82 [==============================] - 8s 101ms/step - loss: 0.0439 - accuracy: 0.9862 - val_loss: 0.0948 - val_accuracy: 0.9707\n",
      "Epoch 38/50\n",
      "82/82 [==============================] - 8s 100ms/step - loss: 0.0538 - accuracy: 0.9788 - val_loss: 0.2028 - val_accuracy: 0.9506\n",
      "Epoch 39/50\n",
      "82/82 [==============================] - 8s 100ms/step - loss: 0.0306 - accuracy: 0.9892 - val_loss: 0.0529 - val_accuracy: 0.9799\n",
      "Epoch 40/50\n",
      "82/82 [==============================] - 8s 100ms/step - loss: 0.0415 - accuracy: 0.9881 - val_loss: 0.0387 - val_accuracy: 0.9861\n",
      "Epoch 41/50\n",
      "82/82 [==============================] - 8s 102ms/step - loss: 0.0517 - accuracy: 0.9808 - val_loss: 0.0636 - val_accuracy: 0.9799\n",
      "Epoch 42/50\n",
      "82/82 [==============================] - 8s 100ms/step - loss: 0.0375 - accuracy: 0.9873 - val_loss: 0.0945 - val_accuracy: 0.9645\n",
      "Epoch 43/50\n",
      "82/82 [==============================] - 8s 100ms/step - loss: 0.0227 - accuracy: 0.9912 - val_loss: 0.0712 - val_accuracy: 0.9753\n",
      "Epoch 44/50\n",
      "82/82 [==============================] - 9s 103ms/step - loss: 0.0132 - accuracy: 0.9965 - val_loss: 0.0577 - val_accuracy: 0.9861\n",
      "Epoch 45/50\n",
      "82/82 [==============================] - 8s 101ms/step - loss: 0.0224 - accuracy: 0.9912 - val_loss: 0.1330 - val_accuracy: 0.9599\n",
      "Epoch 46/50\n",
      "82/82 [==============================] - 8s 102ms/step - loss: 0.0431 - accuracy: 0.9869 - val_loss: 0.1026 - val_accuracy: 0.9691\n",
      "Epoch 47/50\n",
      "82/82 [==============================] - 8s 101ms/step - loss: 0.0244 - accuracy: 0.9892 - val_loss: 0.0840 - val_accuracy: 0.9846\n",
      "Epoch 48/50\n",
      "82/82 [==============================] - 8s 102ms/step - loss: 0.0271 - accuracy: 0.9919 - val_loss: 0.0438 - val_accuracy: 0.9846\n",
      "Epoch 49/50\n",
      "82/82 [==============================] - 8s 103ms/step - loss: 0.0356 - accuracy: 0.9877 - val_loss: 0.0832 - val_accuracy: 0.9784\n",
      "Epoch 50/50\n",
      "82/82 [==============================] - 8s 102ms/step - loss: 0.0255 - accuracy: 0.9904 - val_loss: 0.0709 - val_accuracy: 0.9738\n"
     ]
    }
   ],
   "source": [
    "history = model.fit(train_data,\n",
    "                    epochs=50,\n",
    "                    validation_data=validation_data)\n"
   ]
  },
  {
   "cell_type": "code",
   "execution_count": 5,
   "metadata": {},
   "outputs": [
    {
     "name": "stdout",
     "output_type": "stream",
     "text": [
      "Model: \"sequential\"\n",
      "_________________________________________________________________\n",
      " Layer (type)                Output Shape              Param #   \n",
      "=================================================================\n",
      " conv2d (Conv2D)             (None, 148, 148, 32)      896       \n",
      "                                                                 \n",
      " batch_normalization (BatchN  (None, 148, 148, 32)     128       \n",
      " ormalization)                                                   \n",
      "                                                                 \n",
      " max_pooling2d (MaxPooling2D  (None, 74, 74, 32)       0         \n",
      " )                                                               \n",
      "                                                                 \n",
      " conv2d_1 (Conv2D)           (None, 72, 72, 64)        18496     \n",
      "                                                                 \n",
      " batch_normalization_1 (Batc  (None, 72, 72, 64)       256       \n",
      " hNormalization)                                                 \n",
      "                                                                 \n",
      " max_pooling2d_1 (MaxPooling  (None, 36, 36, 64)       0         \n",
      " 2D)                                                             \n",
      "                                                                 \n",
      " conv2d_2 (Conv2D)           (None, 34, 34, 128)       73856     \n",
      "                                                                 \n",
      " batch_normalization_2 (Batc  (None, 34, 34, 128)      512       \n",
      " hNormalization)                                                 \n",
      "                                                                 \n",
      " max_pooling2d_2 (MaxPooling  (None, 17, 17, 128)      0         \n",
      " 2D)                                                             \n",
      "                                                                 \n",
      " conv2d_3 (Conv2D)           (None, 15, 15, 256)       295168    \n",
      "                                                                 \n",
      " batch_normalization_3 (Batc  (None, 15, 15, 256)      1024      \n",
      " hNormalization)                                                 \n",
      "                                                                 \n",
      " max_pooling2d_3 (MaxPooling  (None, 7, 7, 256)        0         \n",
      " 2D)                                                             \n",
      "                                                                 \n",
      " conv2d_4 (Conv2D)           (None, 5, 5, 512)         1180160   \n",
      "                                                                 \n",
      " batch_normalization_4 (Batc  (None, 5, 5, 512)        2048      \n",
      " hNormalization)                                                 \n",
      "                                                                 \n",
      " max_pooling2d_4 (MaxPooling  (None, 2, 2, 512)        0         \n",
      " 2D)                                                             \n",
      "                                                                 \n",
      " flatten (Flatten)           (None, 2048)              0         \n",
      "                                                                 \n",
      " dense (Dense)               (None, 1024)              2098176   \n",
      "                                                                 \n",
      " batch_normalization_5 (Batc  (None, 1024)             4096      \n",
      " hNormalization)                                                 \n",
      "                                                                 \n",
      " dropout (Dropout)           (None, 1024)              0         \n",
      "                                                                 \n",
      " dense_1 (Dense)             (None, 4)                 4100      \n",
      "                                                                 \n",
      "=================================================================\n",
      "Total params: 3,678,916\n",
      "Trainable params: 3,674,884\n",
      "Non-trainable params: 4,032\n",
      "_________________________________________________________________\n"
     ]
    }
   ],
   "source": [
    "model.summary()"
   ]
  },
  {
   "cell_type": "code",
   "execution_count": 6,
   "metadata": {},
   "outputs": [
    {
     "data": {
      "text/plain": [
       "[<keras.layers.convolutional.conv2d.Conv2D at 0x29b979900>,\n",
       " <keras.layers.normalization.batch_normalization.BatchNormalization at 0x110a96530>,\n",
       " <keras.layers.pooling.max_pooling2d.MaxPooling2D at 0x29b9799f0>,\n",
       " <keras.layers.convolutional.conv2d.Conv2D at 0x29b97aa70>,\n",
       " <keras.layers.normalization.batch_normalization.BatchNormalization at 0x29b978a30>,\n",
       " <keras.layers.pooling.max_pooling2d.MaxPooling2D at 0x29b97abf0>,\n",
       " <keras.layers.convolutional.conv2d.Conv2D at 0x29b979db0>,\n",
       " <keras.layers.normalization.batch_normalization.BatchNormalization at 0x29b9781c0>,\n",
       " <keras.layers.pooling.max_pooling2d.MaxPooling2D at 0x29b97afb0>,\n",
       " <keras.layers.convolutional.conv2d.Conv2D at 0x29b9785e0>,\n",
       " <keras.layers.normalization.batch_normalization.BatchNormalization at 0x29b97b6d0>,\n",
       " <keras.layers.pooling.max_pooling2d.MaxPooling2D at 0x29b978670>,\n",
       " <keras.layers.convolutional.conv2d.Conv2D at 0x29b97bfa0>,\n",
       " <keras.layers.normalization.batch_normalization.BatchNormalization at 0x29b9783a0>,\n",
       " <keras.layers.pooling.max_pooling2d.MaxPooling2D at 0x171edc160>,\n",
       " <keras.layers.reshaping.flatten.Flatten at 0x171edc0d0>,\n",
       " <keras.layers.core.dense.Dense at 0x171edca30>,\n",
       " <keras.layers.normalization.batch_normalization.BatchNormalization at 0x171edcb50>,\n",
       " <keras.layers.regularization.dropout.Dropout at 0x171edcd30>,\n",
       " <keras.layers.core.dense.Dense at 0x171edd180>]"
      ]
     },
     "execution_count": 6,
     "metadata": {},
     "output_type": "execute_result"
    }
   ],
   "source": [
    "model.layers"
   ]
  },
  {
   "cell_type": "code",
   "execution_count": 7,
   "metadata": {},
   "outputs": [
    {
     "data": {
      "image/png": "[encoded data removed]",
      "text/plain": [
       "<Figure size 800x500 with 1 Axes>"
      ]
     },
     "metadata": {},
     "output_type": "display_data"
    }
   ],
   "source": [
    "import matplotlib.pyplot as plt\n",
    "import pandas as pd\n",
    "\n",
    "pd.DataFrame(history.history).plot(\n",
    "    figsize=(8, 5), xlim=[0, 29], ylim=[0, 1], grid=True, xlabel=\"Epoch\",\n",
    "    style=[\"r--\", \"r--.\", \"b-\", \"b-*\"])\n",
    "plt.legend(loc=\"lower left\")  # extra code\n",
    "plt.show()\n"
   ]
  },
  {
   "cell_type": "code",
   "execution_count": 8,
   "metadata": {},
   "outputs": [
    {
     "name": "stdout",
     "output_type": "stream",
     "text": [
      "26/26 [==============================] - 1s 23ms/step - loss: 0.0636 - accuracy: 0.9754\n",
      "Test Loss:  0.06359672546386719\n",
      "Test Accuracy:  0.9754299521446228\n"
     ]
    }
   ],
   "source": [
    "test_loss, test_accuracy = model.evaluate(test_data)\n",
    "print(\"Test Loss: \", test_loss)\n",
    "print(\"Test Accuracy: \", test_accuracy)"
   ]
  },
  {
   "cell_type": "code",
   "execution_count": 9,
   "metadata": {},
   "outputs": [
    {
     "name": "stdout",
     "output_type": "stream",
     "text": [
      " 5/26 [====>.........................] - ETA: 0s"
     ]
    },
    {
     "name": "stderr",
     "output_type": "stream",
     "text": [
      "2023-04-05 23:55:53.455554: I tensorflow/core/grappler/optimizers/custom_graph_optimizer_registry.cc:113] Plugin optimizer for device_type GPU is enabled.\n"
     ]
    },
    {
     "name": "stdout",
     "output_type": "stream",
     "text": [
      "26/26 [==============================] - 1s 21ms/step\n",
      "Classification Report:\n",
      "                                            precision    recall  f1-score   support\n",
      "\n",
      "                         Grape___Black_rot       0.98      0.95      0.97       236\n",
      "              Grape___Esca_(Black_Measles)       0.98      0.97      0.98       277\n",
      "Grape___Leaf_blight_(Isariopsis_Leaf_Spot)       0.96      1.00      0.98       216\n",
      "                           Grape___healthy       0.98      1.00      0.99        85\n",
      "\n",
      "                                  accuracy                           0.98       814\n",
      "                                 macro avg       0.98      0.98      0.98       814\n",
      "                              weighted avg       0.98      0.98      0.98       814\n",
      "\n",
      "Confusion Matrix:\n",
      "[[224   5   6   1]\n",
      " [  4 270   3   0]\n",
      " [  0   0 215   1]\n",
      " [  0   0   0  85]]\n"
     ]
    }
   ],
   "source": [
    "# Matriz de confusión y métricas adicionales\n",
    "Y_pred = model.predict(test_data)\n",
    "y_pred = np.argmax(Y_pred, axis=1)\n",
    "\n",
    "print('Classification Report:')\n",
    "print(classification_report(test_data.classes, y_pred, target_names=test_data.class_indices.keys()))\n",
    "\n",
    "print('Confusion Matrix:')\n",
    "print(confusion_matrix(test_data.classes, y_pred))"
   ]
  }
 ],
 "metadata": {
  "kernelspec": {
   "display_name": "base",
   "language": "python",
   "name": "python3"
  },
  "language_info": {
   "codemirror_mode": {
    "name": "ipython",
    "version": 3
   },
   "file_extension": ".py",
   "mimetype": "text/x-python",
   "name": "python",
   "nbconvert_exporter": "python",
   "pygments_lexer": "ipython3",
   "version": "3.10.9"
  },
  "orig_nbformat": 4
 },
 "nbformat": 4,
 "nbformat_minor": 2
}
