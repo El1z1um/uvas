{
 "cells": [
  {
   "cell_type": "code",
   "execution_count": 2,
   "metadata": {},
   "outputs": [],
   "source": [
    "import tensorflow as tf\n",
    "from tensorflow.keras.preprocessing import image_dataset_from_directory\n",
    "from tensorflow.keras.layers import Conv2D, BatchNormalization, MaxPooling2D, Flatten, Dense, Dropout, GlobalAveragePooling2D\n",
    "from tensorflow.keras.models import Sequential, Model\n",
    "from tensorflow.keras.optimizers import Adam, SGD\n",
    "from tensorflow.keras.callbacks import EarlyStopping, ReduceLROnPlateau\n",
    "from sklearn.model_selection import KFold\n",
    "from sklearn.metrics import classification_report, confusion_matrix\n",
    "import numpy as np\n"
   ]
  },
  {
   "cell_type": "code",
   "execution_count": 3,
   "metadata": {},
   "outputs": [],
   "source": [
    "\n",
    "img_height = 150\n",
    "img_width = 150\n",
    "batch_size = 32\n",
    "data_directory = '/Users/baudi/AI/practicas/uvas/data/train_val/output/'\n",
    "test_data_directory = '/Users/baudi/AI/practicas/uvas/data/test/output/'\n",
    "val_split = 0.2\n",
    "seed = 42\n",
    "num_classes = 4\n",
    "learning_rate = 0.00001\n"
   ]
  },
  {
   "cell_type": "code",
   "execution_count": 4,
   "metadata": {},
   "outputs": [
    {
     "name": "stdout",
     "output_type": "stream",
     "text": [
      "Found 8000 files belonging to 4 classes.\n",
      "Using 6400 files for training.\n",
      "Metal device set to: Apple M2 Pro\n",
      "\n",
      "systemMemory: 32.00 GB\n",
      "maxCacheSize: 10.67 GB\n",
      "\n"
     ]
    },
    {
     "name": "stderr",
     "output_type": "stream",
     "text": [
      "2023-04-10 11:25:53.352203: I tensorflow/core/common_runtime/pluggable_device/pluggable_device_factory.cc:305] Could not identify NUMA node of platform GPU ID 0, defaulting to 0. Your kernel may not have been built with NUMA support.\n",
      "2023-04-10 11:25:53.352362: I tensorflow/core/common_runtime/pluggable_device/pluggable_device_factory.cc:271] Created TensorFlow device (/job:localhost/replica:0/task:0/device:GPU:0 with 0 MB memory) -> physical PluggableDevice (device: 0, name: METAL, pci bus id: <undefined>)\n"
     ]
    },
    {
     "name": "stdout",
     "output_type": "stream",
     "text": [
      "Found 8000 files belonging to 4 classes.\n",
      "Using 1600 files for validation.\n",
      "Found 2000 files belonging to 4 classes.\n"
     ]
    }
   ],
   "source": [
    "\n",
    "def adjustments(image):\n",
    "    image = tf.image.random_brightness(image, 0.2)\n",
    "    image = tf.image.random_contrast(image, 0.9, 1.1)\n",
    "    return image\n",
    "\n",
    "def process_labels(images, labels):\n",
    "    one_hot_labels = tf.one_hot(labels, depth=num_classes)\n",
    "    return images, one_hot_labels\n",
    "\n",
    "train_data_raw = image_dataset_from_directory(\n",
    "    data_directory,\n",
    "    validation_split=val_split,\n",
    "    subset=\"training\",\n",
    "    seed=seed,\n",
    "    image_size=(img_height, img_width),\n",
    "    batch_size=batch_size\n",
    ")\n",
    "\n",
    "class_names = train_data_raw.class_names\n",
    "\n",
    "train_data = train_data_raw.map(lambda x, y: (adjustments(x), y)).map(process_labels).cache().prefetch(tf.data.experimental.AUTOTUNE)\n",
    "\n",
    "\n",
    "val_data = image_dataset_from_directory(\n",
    "    data_directory,\n",
    "    validation_split=val_split,\n",
    "    subset=\"validation\",\n",
    "    seed=seed,\n",
    "    image_size=(img_height, img_width),\n",
    "    batch_size=batch_size\n",
    ").map(process_labels).cache().prefetch(tf.data.experimental.AUTOTUNE)\n",
    "\n",
    "test_data = image_dataset_from_directory(\n",
    "    test_data_directory,\n",
    "    seed=seed,\n",
    "    image_size=(img_height, img_width),\n",
    "    batch_size=batch_size\n",
    ").map(process_labels).cache().prefetch(tf.data.experimental.AUTOTUNE)\n"
   ]
  },
  {
   "cell_type": "code",
   "execution_count": 5,
   "metadata": {},
   "outputs": [],
   "source": [
    "def build_model():\n",
    "\n",
    "    model = Sequential([\n",
    "        Conv2D(32, (3, 3), activation='relu', input_shape=(150, 150, 3)),\n",
    "        BatchNormalization(),\n",
    "        MaxPooling2D(pool_size=(2, 2)),\n",
    "        \n",
    "        Conv2D(64, (3, 3), activation='relu'),\n",
    "        BatchNormalization(),\n",
    "        MaxPooling2D(pool_size=(2, 2)),\n",
    "        \n",
    "        Conv2D(128, (3, 3), activation='relu'),\n",
    "        BatchNormalization(),\n",
    "        MaxPooling2D(pool_size=(2, 2)),\n",
    "\n",
    "        Conv2D(256, (3, 3), activation='relu'),\n",
    "        BatchNormalization(),\n",
    "        MaxPooling2D(pool_size=(2, 2)),\n",
    "\n",
    "        Conv2D(512, (3, 3), activation='relu'),\n",
    "        BatchNormalization(),\n",
    "        MaxPooling2D(pool_size=(2, 2)),\n",
    "\n",
    "        Flatten(),\n",
    "        Dense(1024, activation='relu'),\n",
    "        BatchNormalization(),\n",
    "        Dropout(0.5),\n",
    "        Dense(4, activation='softmax')  # 4 clases: sanas, enfermedad1, enfermedad2, enfermedad3\n",
    "    ])\n",
    "\n",
    "    model.compile(optimizer=Adam(learning_rate=0.0001),\n",
    "                loss='categorical_crossentropy',\n",
    "                metrics=['accuracy'])\n",
    "    \n",
    "    return model\n"
   ]
  },
  {
   "cell_type": "code",
   "execution_count": 6,
   "metadata": {},
   "outputs": [],
   "source": [
    "\n",
    "def cross_validate(model_builder, n_splits=2, epochs=20):\n",
    "    kfold = KFold(n_splits=n_splits, shuffle=True, random_state=42)\n",
    "    X = np.concatenate([x for x, y in train_data] + [x for x, y in val_data])\n",
    "    y = np.concatenate([y for x, y in train_data] + [y for x, y in val_data])\n",
    "\n",
    "    accuracies = []\n",
    "    for fold, (train_idx, val_idx) in enumerate(kfold.split(X, y), start=1):\n",
    "        model = model_builder()\n",
    "        print(f\"Comienza el entrenamiento del fold {fold}\")\n",
    "        early_stopping = EarlyStopping(monitor='val_loss', patience=10, restore_best_weights=True)\n",
    "        reduce_lr = ReduceLROnPlateau(monitor='val_loss', factor=0.1, patience=3, min_lr=0.00001)\n",
    "\n",
    "        callbacks = [early_stopping, reduce_lr]\n",
    "\n",
    "        history = model.fit(X[train_idx],\n",
    "                  y[train_idx],\n",
    "                  validation_data=(X[val_idx], y[val_idx]),\n",
    "                  batch_size = batch_size,\n",
    "                  epochs=epochs,\n",
    "                  callbacks=callbacks)\n",
    "        print(f\"Termina el entrenamiento del fold {fold}\")\n",
    "        val_accuracy = history.history['val_accuracy']\n",
    "        last_val_accuracy = val_accuracy[-1]\n",
    "        print(f\"Precisión de validación del fold {fold}: {last_val_accuracy}\")\n",
    "\n",
    "        accuracies.append(last_val_accuracy)\n",
    "\n",
    "    return np.mean(accuracies)\n"
   ]
  },
  {
   "cell_type": "code",
   "execution_count": 7,
   "metadata": {},
   "outputs": [
    {
     "name": "stderr",
     "output_type": "stream",
     "text": [
      "2023-04-10 11:25:53.686794: W tensorflow/core/platform/profile_utils/cpu_utils.cc:128] Failed to get CPU frequency: 0 Hz\n"
     ]
    },
    {
     "name": "stdout",
     "output_type": "stream",
     "text": [
      "Comienza el entrenamiento del fold 1\n",
      "Epoch 1/20\n"
     ]
    },
    {
     "name": "stderr",
     "output_type": "stream",
     "text": [
      "2023-04-10 11:25:55.751648: I tensorflow/core/grappler/optimizers/custom_graph_optimizer_registry.cc:113] Plugin optimizer for device_type GPU is enabled.\n"
     ]
    },
    {
     "name": "stdout",
     "output_type": "stream",
     "text": [
      "200/200 [==============================] - ETA: 0s - loss: 1.0864 - accuracy: 0.6408"
     ]
    },
    {
     "name": "stderr",
     "output_type": "stream",
     "text": [
      "2023-04-10 11:26:04.598700: I tensorflow/core/grappler/optimizers/custom_graph_optimizer_registry.cc:113] Plugin optimizer for device_type GPU is enabled.\n"
     ]
    },
    {
     "name": "stdout",
     "output_type": "stream",
     "text": [
      "200/200 [==============================] - 10s 46ms/step - loss: 1.0864 - accuracy: 0.6408 - val_loss: 0.7860 - val_accuracy: 0.6594 - lr: 1.0000e-04\n",
      "Epoch 2/20\n",
      "200/200 [==============================] - 9s 44ms/step - loss: 0.5690 - accuracy: 0.7923 - val_loss: 0.4952 - val_accuracy: 0.7956 - lr: 1.0000e-04\n",
      "Epoch 3/20\n",
      "200/200 [==============================] - 9s 44ms/step - loss: 0.3731 - accuracy: 0.8587 - val_loss: 0.4746 - val_accuracy: 0.8106 - lr: 1.0000e-04\n",
      "Epoch 4/20\n",
      "200/200 [==============================] - 9s 44ms/step - loss: 0.2956 - accuracy: 0.8927 - val_loss: 0.3576 - val_accuracy: 0.8612 - lr: 1.0000e-04\n",
      "Epoch 5/20\n",
      "200/200 [==============================] - 9s 44ms/step - loss: 0.2161 - accuracy: 0.9242 - val_loss: 0.3318 - val_accuracy: 0.8837 - lr: 1.0000e-04\n",
      "Epoch 6/20\n",
      "200/200 [==============================] - 9s 44ms/step - loss: 0.1761 - accuracy: 0.9373 - val_loss: 0.3031 - val_accuracy: 0.8906 - lr: 1.0000e-04\n",
      "Epoch 7/20\n",
      "200/200 [==============================] - 9s 43ms/step - loss: 0.1355 - accuracy: 0.9536 - val_loss: 0.6004 - val_accuracy: 0.8275 - lr: 1.0000e-04\n",
      "Epoch 8/20\n",
      "200/200 [==============================] - 9s 44ms/step - loss: 0.1084 - accuracy: 0.9634 - val_loss: 0.2592 - val_accuracy: 0.9087 - lr: 1.0000e-04\n",
      "Epoch 9/20\n",
      "200/200 [==============================] - 9s 43ms/step - loss: 0.1126 - accuracy: 0.9609 - val_loss: 0.4216 - val_accuracy: 0.8575 - lr: 1.0000e-04\n",
      "Epoch 10/20\n",
      "200/200 [==============================] - 9s 43ms/step - loss: 0.0890 - accuracy: 0.9694 - val_loss: 0.3477 - val_accuracy: 0.8906 - lr: 1.0000e-04\n",
      "Epoch 11/20\n",
      "200/200 [==============================] - 9s 43ms/step - loss: 0.0732 - accuracy: 0.9737 - val_loss: 0.4936 - val_accuracy: 0.8600 - lr: 1.0000e-04\n",
      "Epoch 12/20\n",
      "200/200 [==============================] - 9s 43ms/step - loss: 0.0345 - accuracy: 0.9881 - val_loss: 0.1772 - val_accuracy: 0.9362 - lr: 1.0000e-05\n",
      "Epoch 13/20\n",
      "200/200 [==============================] - 9s 44ms/step - loss: 0.0257 - accuracy: 0.9927 - val_loss: 0.1730 - val_accuracy: 0.9406 - lr: 1.0000e-05\n",
      "Epoch 14/20\n",
      "200/200 [==============================] - 9s 44ms/step - loss: 0.0225 - accuracy: 0.9934 - val_loss: 0.1738 - val_accuracy: 0.9387 - lr: 1.0000e-05\n",
      "Epoch 15/20\n",
      "200/200 [==============================] - 9s 44ms/step - loss: 0.0235 - accuracy: 0.9931 - val_loss: 0.1699 - val_accuracy: 0.9394 - lr: 1.0000e-05\n",
      "Epoch 16/20\n",
      "200/200 [==============================] - 9s 43ms/step - loss: 0.0183 - accuracy: 0.9955 - val_loss: 0.1687 - val_accuracy: 0.9431 - lr: 1.0000e-05\n",
      "Epoch 17/20\n",
      "200/200 [==============================] - 9s 43ms/step - loss: 0.0174 - accuracy: 0.9955 - val_loss: 0.1714 - val_accuracy: 0.9419 - lr: 1.0000e-05\n",
      "Epoch 18/20\n",
      "200/200 [==============================] - 9s 44ms/step - loss: 0.0170 - accuracy: 0.9956 - val_loss: 0.1747 - val_accuracy: 0.9419 - lr: 1.0000e-05\n",
      "Epoch 19/20\n",
      "200/200 [==============================] - 9s 44ms/step - loss: 0.0117 - accuracy: 0.9969 - val_loss: 0.1816 - val_accuracy: 0.9394 - lr: 1.0000e-05\n",
      "Epoch 20/20\n",
      "200/200 [==============================] - 9s 44ms/step - loss: 0.0153 - accuracy: 0.9953 - val_loss: 0.1762 - val_accuracy: 0.9419 - lr: 1.0000e-05\n",
      "Termina el entrenamiento del fold 1\n",
      "Precisión de validación del fold 1: 0.9418749809265137\n",
      "Comienza el entrenamiento del fold 2\n",
      "Epoch 1/20\n"
     ]
    },
    {
     "name": "stderr",
     "output_type": "stream",
     "text": [
      "2023-04-10 11:28:52.435890: I tensorflow/core/grappler/optimizers/custom_graph_optimizer_registry.cc:113] Plugin optimizer for device_type GPU is enabled.\n"
     ]
    },
    {
     "name": "stdout",
     "output_type": "stream",
     "text": [
      "200/200 [==============================] - ETA: 0s - loss: 1.0450 - accuracy: 0.6534"
     ]
    },
    {
     "name": "stderr",
     "output_type": "stream",
     "text": [
      "2023-04-10 11:29:01.036644: I tensorflow/core/grappler/optimizers/custom_graph_optimizer_registry.cc:113] Plugin optimizer for device_type GPU is enabled.\n"
     ]
    },
    {
     "name": "stdout",
     "output_type": "stream",
     "text": [
      "200/200 [==============================] - 10s 46ms/step - loss: 1.0450 - accuracy: 0.6534 - val_loss: 0.8148 - val_accuracy: 0.6569 - lr: 1.0000e-04\n",
      "Epoch 2/20\n",
      "200/200 [==============================] - 9s 45ms/step - loss: 0.5534 - accuracy: 0.7953 - val_loss: 0.4864 - val_accuracy: 0.8169 - lr: 1.0000e-04\n",
      "Epoch 3/20\n",
      "200/200 [==============================] - 9s 44ms/step - loss: 0.3949 - accuracy: 0.8525 - val_loss: 0.3629 - val_accuracy: 0.8631 - lr: 1.0000e-04\n",
      "Epoch 4/20\n",
      "200/200 [==============================] - 9s 44ms/step - loss: 0.2981 - accuracy: 0.8902 - val_loss: 0.4912 - val_accuracy: 0.8425 - lr: 1.0000e-04\n",
      "Epoch 5/20\n",
      "200/200 [==============================] - 9s 45ms/step - loss: 0.2363 - accuracy: 0.9106 - val_loss: 0.3405 - val_accuracy: 0.8856 - lr: 1.0000e-04\n",
      "Epoch 6/20\n",
      "200/200 [==============================] - 9s 44ms/step - loss: 0.1689 - accuracy: 0.9367 - val_loss: 0.2979 - val_accuracy: 0.8981 - lr: 1.0000e-04\n",
      "Epoch 7/20\n",
      "200/200 [==============================] - 9s 45ms/step - loss: 0.1467 - accuracy: 0.9505 - val_loss: 0.3869 - val_accuracy: 0.8700 - lr: 1.0000e-04\n",
      "Epoch 8/20\n",
      "200/200 [==============================] - 9s 43ms/step - loss: 0.1210 - accuracy: 0.9577 - val_loss: 0.3927 - val_accuracy: 0.8744 - lr: 1.0000e-04\n",
      "Epoch 9/20\n",
      "200/200 [==============================] - 9s 44ms/step - loss: 0.1156 - accuracy: 0.9614 - val_loss: 0.3027 - val_accuracy: 0.9075 - lr: 1.0000e-04\n",
      "Epoch 10/20\n",
      "200/200 [==============================] - 9s 45ms/step - loss: 0.0577 - accuracy: 0.9803 - val_loss: 0.1991 - val_accuracy: 0.9244 - lr: 1.0000e-05\n",
      "Epoch 11/20\n",
      "200/200 [==============================] - 9s 44ms/step - loss: 0.0403 - accuracy: 0.9859 - val_loss: 0.1984 - val_accuracy: 0.9287 - lr: 1.0000e-05\n",
      "Epoch 12/20\n",
      "200/200 [==============================] - 9s 44ms/step - loss: 0.0356 - accuracy: 0.9903 - val_loss: 0.1993 - val_accuracy: 0.9287 - lr: 1.0000e-05\n",
      "Epoch 13/20\n",
      "200/200 [==============================] - 9s 44ms/step - loss: 0.0330 - accuracy: 0.9909 - val_loss: 0.1884 - val_accuracy: 0.9325 - lr: 1.0000e-05\n",
      "Epoch 14/20\n",
      "200/200 [==============================] - 9s 44ms/step - loss: 0.0293 - accuracy: 0.9908 - val_loss: 0.1811 - val_accuracy: 0.9369 - lr: 1.0000e-05\n",
      "Epoch 15/20\n",
      "200/200 [==============================] - 9s 44ms/step - loss: 0.0288 - accuracy: 0.9909 - val_loss: 0.1959 - val_accuracy: 0.9319 - lr: 1.0000e-05\n",
      "Epoch 16/20\n",
      "200/200 [==============================] - 9s 44ms/step - loss: 0.0241 - accuracy: 0.9944 - val_loss: 0.1929 - val_accuracy: 0.9325 - lr: 1.0000e-05\n",
      "Epoch 17/20\n",
      "200/200 [==============================] - 9s 44ms/step - loss: 0.0171 - accuracy: 0.9967 - val_loss: 0.2002 - val_accuracy: 0.9337 - lr: 1.0000e-05\n",
      "Epoch 18/20\n",
      "200/200 [==============================] - 9s 44ms/step - loss: 0.0206 - accuracy: 0.9939 - val_loss: 0.1896 - val_accuracy: 0.9325 - lr: 1.0000e-05\n",
      "Epoch 19/20\n",
      "200/200 [==============================] - 9s 44ms/step - loss: 0.0193 - accuracy: 0.9952 - val_loss: 0.1968 - val_accuracy: 0.9294 - lr: 1.0000e-05\n",
      "Epoch 20/20\n",
      "200/200 [==============================] - 9s 45ms/step - loss: 0.0151 - accuracy: 0.9972 - val_loss: 0.1988 - val_accuracy: 0.9294 - lr: 1.0000e-05\n",
      "Termina el entrenamiento del fold 2\n",
      "Precisión de validación del fold 2: 0.9293749928474426\n",
      "Comienza el entrenamiento del fold 3\n",
      "Epoch 1/20\n"
     ]
    },
    {
     "name": "stderr",
     "output_type": "stream",
     "text": [
      "2023-04-10 11:31:50.268405: I tensorflow/core/grappler/optimizers/custom_graph_optimizer_registry.cc:113] Plugin optimizer for device_type GPU is enabled.\n"
     ]
    },
    {
     "name": "stdout",
     "output_type": "stream",
     "text": [
      "199/200 [============================>.] - ETA: 0s - loss: 1.0325 - accuracy: 0.6573"
     ]
    },
    {
     "name": "stderr",
     "output_type": "stream",
     "text": [
      "2023-04-10 11:32:00.153444: I tensorflow/core/grappler/optimizers/custom_graph_optimizer_registry.cc:113] Plugin optimizer for device_type GPU is enabled.\n"
     ]
    },
    {
     "name": "stdout",
     "output_type": "stream",
     "text": [
      "200/200 [==============================] - 11s 51ms/step - loss: 1.0308 - accuracy: 0.6578 - val_loss: 0.8749 - val_accuracy: 0.6962 - lr: 1.0000e-04\n",
      "Epoch 2/20\n",
      "200/200 [==============================] - 9s 44ms/step - loss: 0.5673 - accuracy: 0.7903 - val_loss: 0.5317 - val_accuracy: 0.8156 - lr: 1.0000e-04\n",
      "Epoch 3/20\n",
      "200/200 [==============================] - 9s 45ms/step - loss: 0.4008 - accuracy: 0.8520 - val_loss: 0.3496 - val_accuracy: 0.8575 - lr: 1.0000e-04\n",
      "Epoch 4/20\n",
      "200/200 [==============================] - 9s 44ms/step - loss: 0.2708 - accuracy: 0.9016 - val_loss: 0.4118 - val_accuracy: 0.8531 - lr: 1.0000e-04\n",
      "Epoch 5/20\n",
      "200/200 [==============================] - 9s 44ms/step - loss: 0.2372 - accuracy: 0.9150 - val_loss: 0.2906 - val_accuracy: 0.8906 - lr: 1.0000e-04\n",
      "Epoch 6/20\n",
      "200/200 [==============================] - 9s 44ms/step - loss: 0.1780 - accuracy: 0.9367 - val_loss: 0.3035 - val_accuracy: 0.8950 - lr: 1.0000e-04\n",
      "Epoch 7/20\n",
      "200/200 [==============================] - 9s 44ms/step - loss: 0.1437 - accuracy: 0.9508 - val_loss: 0.3053 - val_accuracy: 0.9106 - lr: 1.0000e-04\n",
      "Epoch 8/20\n",
      "200/200 [==============================] - 9s 44ms/step - loss: 0.1249 - accuracy: 0.9573 - val_loss: 0.3105 - val_accuracy: 0.8869 - lr: 1.0000e-04\n",
      "Epoch 9/20\n",
      "200/200 [==============================] - 9s 44ms/step - loss: 0.0635 - accuracy: 0.9806 - val_loss: 0.1893 - val_accuracy: 0.9331 - lr: 1.0000e-05\n",
      "Epoch 10/20\n",
      "200/200 [==============================] - 9s 44ms/step - loss: 0.0428 - accuracy: 0.9889 - val_loss: 0.1744 - val_accuracy: 0.9337 - lr: 1.0000e-05\n",
      "Epoch 11/20\n",
      "200/200 [==============================] - 9s 44ms/step - loss: 0.0477 - accuracy: 0.9856 - val_loss: 0.1918 - val_accuracy: 0.9337 - lr: 1.0000e-05\n",
      "Epoch 12/20\n",
      "200/200 [==============================] - 9s 44ms/step - loss: 0.0383 - accuracy: 0.9891 - val_loss: 0.1811 - val_accuracy: 0.9356 - lr: 1.0000e-05\n",
      "Epoch 13/20\n",
      "200/200 [==============================] - 9s 44ms/step - loss: 0.0327 - accuracy: 0.9912 - val_loss: 0.1870 - val_accuracy: 0.9369 - lr: 1.0000e-05\n",
      "Epoch 14/20\n",
      "200/200 [==============================] - 9s 44ms/step - loss: 0.0292 - accuracy: 0.9923 - val_loss: 0.1898 - val_accuracy: 0.9375 - lr: 1.0000e-05\n",
      "Epoch 15/20\n",
      " 87/200 [============>.................] - ETA: 4s - loss: 0.0253 - accuracy: 0.9939"
     ]
    },
    {
     "ename": "KeyboardInterrupt",
     "evalue": "",
     "output_type": "error",
     "traceback": [
      "\u001b[0;31m---------------------------------------------------------------------------\u001b[0m",
      "\u001b[0;31mKeyboardInterrupt\u001b[0m                         Traceback (most recent call last)",
      "Cell \u001b[0;32mIn[7], line 1\u001b[0m\n\u001b[0;32m----> 1\u001b[0m mean_accuracy \u001b[39m=\u001b[39m cross_validate(build_model,\u001b[39m5\u001b[39;49m,\u001b[39m20\u001b[39;49m)\n\u001b[1;32m      2\u001b[0m \u001b[39mprint\u001b[39m(\u001b[39mf\u001b[39m\u001b[39m'\u001b[39m\u001b[39mMean accuracy: \u001b[39m\u001b[39m{\u001b[39;00mmean_accuracy\u001b[39m:\u001b[39;00m\u001b[39m.4f\u001b[39m\u001b[39m}\u001b[39;00m\u001b[39m'\u001b[39m)\n",
      "Cell \u001b[0;32mIn[6], line 15\u001b[0m, in \u001b[0;36mcross_validate\u001b[0;34m(model_builder, n_splits, epochs)\u001b[0m\n\u001b[1;32m     11\u001b[0m reduce_lr \u001b[39m=\u001b[39m ReduceLROnPlateau(monitor\u001b[39m=\u001b[39m\u001b[39m'\u001b[39m\u001b[39mval_loss\u001b[39m\u001b[39m'\u001b[39m, factor\u001b[39m=\u001b[39m\u001b[39m0.1\u001b[39m, patience\u001b[39m=\u001b[39m\u001b[39m3\u001b[39m, min_lr\u001b[39m=\u001b[39m\u001b[39m0.00001\u001b[39m)\n\u001b[1;32m     13\u001b[0m callbacks \u001b[39m=\u001b[39m [early_stopping, reduce_lr]\n\u001b[0;32m---> 15\u001b[0m history \u001b[39m=\u001b[39m model\u001b[39m.\u001b[39;49mfit(X[train_idx],\n\u001b[1;32m     16\u001b[0m           y[train_idx],\n\u001b[1;32m     17\u001b[0m           validation_data\u001b[39m=\u001b[39;49m(X[val_idx], y[val_idx]),\n\u001b[1;32m     18\u001b[0m           batch_size \u001b[39m=\u001b[39;49m batch_size,\n\u001b[1;32m     19\u001b[0m           epochs\u001b[39m=\u001b[39;49mepochs,\n\u001b[1;32m     20\u001b[0m           callbacks\u001b[39m=\u001b[39;49mcallbacks)\n\u001b[1;32m     21\u001b[0m \u001b[39mprint\u001b[39m(\u001b[39mf\u001b[39m\u001b[39m\"\u001b[39m\u001b[39mTermina el entrenamiento del fold \u001b[39m\u001b[39m{\u001b[39;00mfold\u001b[39m}\u001b[39;00m\u001b[39m\"\u001b[39m)\n\u001b[1;32m     22\u001b[0m val_accuracy \u001b[39m=\u001b[39m history\u001b[39m.\u001b[39mhistory[\u001b[39m'\u001b[39m\u001b[39mval_accuracy\u001b[39m\u001b[39m'\u001b[39m]\n",
      "File \u001b[0;32m~/miniconda3/lib/python3.10/site-packages/keras/utils/traceback_utils.py:64\u001b[0m, in \u001b[0;36mfilter_traceback.<locals>.error_handler\u001b[0;34m(*args, **kwargs)\u001b[0m\n\u001b[1;32m     62\u001b[0m filtered_tb \u001b[39m=\u001b[39m \u001b[39mNone\u001b[39;00m\n\u001b[1;32m     63\u001b[0m \u001b[39mtry\u001b[39;00m:\n\u001b[0;32m---> 64\u001b[0m   \u001b[39mreturn\u001b[39;00m fn(\u001b[39m*\u001b[39;49margs, \u001b[39m*\u001b[39;49m\u001b[39m*\u001b[39;49mkwargs)\n\u001b[1;32m     65\u001b[0m \u001b[39mexcept\u001b[39;00m \u001b[39mException\u001b[39;00m \u001b[39mas\u001b[39;00m e:  \u001b[39m# pylint: disable=broad-except\u001b[39;00m\n\u001b[1;32m     66\u001b[0m   filtered_tb \u001b[39m=\u001b[39m _process_traceback_frames(e\u001b[39m.\u001b[39m__traceback__)\n",
      "File \u001b[0;32m~/miniconda3/lib/python3.10/site-packages/keras/engine/training.py:1409\u001b[0m, in \u001b[0;36mModel.fit\u001b[0;34m(self, x, y, batch_size, epochs, verbose, callbacks, validation_split, validation_data, shuffle, class_weight, sample_weight, initial_epoch, steps_per_epoch, validation_steps, validation_batch_size, validation_freq, max_queue_size, workers, use_multiprocessing)\u001b[0m\n\u001b[1;32m   1402\u001b[0m \u001b[39mwith\u001b[39;00m tf\u001b[39m.\u001b[39mprofiler\u001b[39m.\u001b[39mexperimental\u001b[39m.\u001b[39mTrace(\n\u001b[1;32m   1403\u001b[0m     \u001b[39m'\u001b[39m\u001b[39mtrain\u001b[39m\u001b[39m'\u001b[39m,\n\u001b[1;32m   1404\u001b[0m     epoch_num\u001b[39m=\u001b[39mepoch,\n\u001b[1;32m   1405\u001b[0m     step_num\u001b[39m=\u001b[39mstep,\n\u001b[1;32m   1406\u001b[0m     batch_size\u001b[39m=\u001b[39mbatch_size,\n\u001b[1;32m   1407\u001b[0m     _r\u001b[39m=\u001b[39m\u001b[39m1\u001b[39m):\n\u001b[1;32m   1408\u001b[0m   callbacks\u001b[39m.\u001b[39mon_train_batch_begin(step)\n\u001b[0;32m-> 1409\u001b[0m   tmp_logs \u001b[39m=\u001b[39m \u001b[39mself\u001b[39;49m\u001b[39m.\u001b[39;49mtrain_function(iterator)\n\u001b[1;32m   1410\u001b[0m   \u001b[39mif\u001b[39;00m data_handler\u001b[39m.\u001b[39mshould_sync:\n\u001b[1;32m   1411\u001b[0m     context\u001b[39m.\u001b[39masync_wait()\n",
      "File \u001b[0;32m~/miniconda3/lib/python3.10/site-packages/tensorflow/python/util/traceback_utils.py:150\u001b[0m, in \u001b[0;36mfilter_traceback.<locals>.error_handler\u001b[0;34m(*args, **kwargs)\u001b[0m\n\u001b[1;32m    148\u001b[0m filtered_tb \u001b[39m=\u001b[39m \u001b[39mNone\u001b[39;00m\n\u001b[1;32m    149\u001b[0m \u001b[39mtry\u001b[39;00m:\n\u001b[0;32m--> 150\u001b[0m   \u001b[39mreturn\u001b[39;00m fn(\u001b[39m*\u001b[39;49margs, \u001b[39m*\u001b[39;49m\u001b[39m*\u001b[39;49mkwargs)\n\u001b[1;32m    151\u001b[0m \u001b[39mexcept\u001b[39;00m \u001b[39mException\u001b[39;00m \u001b[39mas\u001b[39;00m e:\n\u001b[1;32m    152\u001b[0m   filtered_tb \u001b[39m=\u001b[39m _process_traceback_frames(e\u001b[39m.\u001b[39m__traceback__)\n",
      "File \u001b[0;32m~/miniconda3/lib/python3.10/site-packages/tensorflow/python/eager/def_function.py:915\u001b[0m, in \u001b[0;36mFunction.__call__\u001b[0;34m(self, *args, **kwds)\u001b[0m\n\u001b[1;32m    912\u001b[0m compiler \u001b[39m=\u001b[39m \u001b[39m\"\u001b[39m\u001b[39mxla\u001b[39m\u001b[39m\"\u001b[39m \u001b[39mif\u001b[39;00m \u001b[39mself\u001b[39m\u001b[39m.\u001b[39m_jit_compile \u001b[39melse\u001b[39;00m \u001b[39m\"\u001b[39m\u001b[39mnonXla\u001b[39m\u001b[39m\"\u001b[39m\n\u001b[1;32m    914\u001b[0m \u001b[39mwith\u001b[39;00m OptionalXlaContext(\u001b[39mself\u001b[39m\u001b[39m.\u001b[39m_jit_compile):\n\u001b[0;32m--> 915\u001b[0m   result \u001b[39m=\u001b[39m \u001b[39mself\u001b[39;49m\u001b[39m.\u001b[39;49m_call(\u001b[39m*\u001b[39;49margs, \u001b[39m*\u001b[39;49m\u001b[39m*\u001b[39;49mkwds)\n\u001b[1;32m    917\u001b[0m new_tracing_count \u001b[39m=\u001b[39m \u001b[39mself\u001b[39m\u001b[39m.\u001b[39mexperimental_get_tracing_count()\n\u001b[1;32m    918\u001b[0m without_tracing \u001b[39m=\u001b[39m (tracing_count \u001b[39m==\u001b[39m new_tracing_count)\n",
      "File \u001b[0;32m~/miniconda3/lib/python3.10/site-packages/tensorflow/python/eager/def_function.py:947\u001b[0m, in \u001b[0;36mFunction._call\u001b[0;34m(self, *args, **kwds)\u001b[0m\n\u001b[1;32m    944\u001b[0m   \u001b[39mself\u001b[39m\u001b[39m.\u001b[39m_lock\u001b[39m.\u001b[39mrelease()\n\u001b[1;32m    945\u001b[0m   \u001b[39m# In this case we have created variables on the first call, so we run the\u001b[39;00m\n\u001b[1;32m    946\u001b[0m   \u001b[39m# defunned version which is guaranteed to never create variables.\u001b[39;00m\n\u001b[0;32m--> 947\u001b[0m   \u001b[39mreturn\u001b[39;00m \u001b[39mself\u001b[39;49m\u001b[39m.\u001b[39;49m_stateless_fn(\u001b[39m*\u001b[39;49margs, \u001b[39m*\u001b[39;49m\u001b[39m*\u001b[39;49mkwds)  \u001b[39m# pylint: disable=not-callable\u001b[39;00m\n\u001b[1;32m    948\u001b[0m \u001b[39melif\u001b[39;00m \u001b[39mself\u001b[39m\u001b[39m.\u001b[39m_stateful_fn \u001b[39mis\u001b[39;00m \u001b[39mnot\u001b[39;00m \u001b[39mNone\u001b[39;00m:\n\u001b[1;32m    949\u001b[0m   \u001b[39m# Release the lock early so that multiple threads can perform the call\u001b[39;00m\n\u001b[1;32m    950\u001b[0m   \u001b[39m# in parallel.\u001b[39;00m\n\u001b[1;32m    951\u001b[0m   \u001b[39mself\u001b[39m\u001b[39m.\u001b[39m_lock\u001b[39m.\u001b[39mrelease()\n",
      "File \u001b[0;32m~/miniconda3/lib/python3.10/site-packages/tensorflow/python/eager/function.py:2453\u001b[0m, in \u001b[0;36mFunction.__call__\u001b[0;34m(self, *args, **kwargs)\u001b[0m\n\u001b[1;32m   2450\u001b[0m \u001b[39mwith\u001b[39;00m \u001b[39mself\u001b[39m\u001b[39m.\u001b[39m_lock:\n\u001b[1;32m   2451\u001b[0m   (graph_function,\n\u001b[1;32m   2452\u001b[0m    filtered_flat_args) \u001b[39m=\u001b[39m \u001b[39mself\u001b[39m\u001b[39m.\u001b[39m_maybe_define_function(args, kwargs)\n\u001b[0;32m-> 2453\u001b[0m \u001b[39mreturn\u001b[39;00m graph_function\u001b[39m.\u001b[39;49m_call_flat(\n\u001b[1;32m   2454\u001b[0m     filtered_flat_args, captured_inputs\u001b[39m=\u001b[39;49mgraph_function\u001b[39m.\u001b[39;49mcaptured_inputs)\n",
      "File \u001b[0;32m~/miniconda3/lib/python3.10/site-packages/tensorflow/python/eager/function.py:1860\u001b[0m, in \u001b[0;36mConcreteFunction._call_flat\u001b[0;34m(self, args, captured_inputs, cancellation_manager)\u001b[0m\n\u001b[1;32m   1856\u001b[0m possible_gradient_type \u001b[39m=\u001b[39m gradients_util\u001b[39m.\u001b[39mPossibleTapeGradientTypes(args)\n\u001b[1;32m   1857\u001b[0m \u001b[39mif\u001b[39;00m (possible_gradient_type \u001b[39m==\u001b[39m gradients_util\u001b[39m.\u001b[39mPOSSIBLE_GRADIENT_TYPES_NONE\n\u001b[1;32m   1858\u001b[0m     \u001b[39mand\u001b[39;00m executing_eagerly):\n\u001b[1;32m   1859\u001b[0m   \u001b[39m# No tape is watching; skip to running the function.\u001b[39;00m\n\u001b[0;32m-> 1860\u001b[0m   \u001b[39mreturn\u001b[39;00m \u001b[39mself\u001b[39m\u001b[39m.\u001b[39m_build_call_outputs(\u001b[39mself\u001b[39;49m\u001b[39m.\u001b[39;49m_inference_function\u001b[39m.\u001b[39;49mcall(\n\u001b[1;32m   1861\u001b[0m       ctx, args, cancellation_manager\u001b[39m=\u001b[39;49mcancellation_manager))\n\u001b[1;32m   1862\u001b[0m forward_backward \u001b[39m=\u001b[39m \u001b[39mself\u001b[39m\u001b[39m.\u001b[39m_select_forward_and_backward_functions(\n\u001b[1;32m   1863\u001b[0m     args,\n\u001b[1;32m   1864\u001b[0m     possible_gradient_type,\n\u001b[1;32m   1865\u001b[0m     executing_eagerly)\n\u001b[1;32m   1866\u001b[0m forward_function, args_with_tangents \u001b[39m=\u001b[39m forward_backward\u001b[39m.\u001b[39mforward()\n",
      "File \u001b[0;32m~/miniconda3/lib/python3.10/site-packages/tensorflow/python/eager/function.py:497\u001b[0m, in \u001b[0;36m_EagerDefinedFunction.call\u001b[0;34m(self, ctx, args, cancellation_manager)\u001b[0m\n\u001b[1;32m    495\u001b[0m \u001b[39mwith\u001b[39;00m _InterpolateFunctionError(\u001b[39mself\u001b[39m):\n\u001b[1;32m    496\u001b[0m   \u001b[39mif\u001b[39;00m cancellation_manager \u001b[39mis\u001b[39;00m \u001b[39mNone\u001b[39;00m:\n\u001b[0;32m--> 497\u001b[0m     outputs \u001b[39m=\u001b[39m execute\u001b[39m.\u001b[39;49mexecute(\n\u001b[1;32m    498\u001b[0m         \u001b[39mstr\u001b[39;49m(\u001b[39mself\u001b[39;49m\u001b[39m.\u001b[39;49msignature\u001b[39m.\u001b[39;49mname),\n\u001b[1;32m    499\u001b[0m         num_outputs\u001b[39m=\u001b[39;49m\u001b[39mself\u001b[39;49m\u001b[39m.\u001b[39;49m_num_outputs,\n\u001b[1;32m    500\u001b[0m         inputs\u001b[39m=\u001b[39;49margs,\n\u001b[1;32m    501\u001b[0m         attrs\u001b[39m=\u001b[39;49mattrs,\n\u001b[1;32m    502\u001b[0m         ctx\u001b[39m=\u001b[39;49mctx)\n\u001b[1;32m    503\u001b[0m   \u001b[39melse\u001b[39;00m:\n\u001b[1;32m    504\u001b[0m     outputs \u001b[39m=\u001b[39m execute\u001b[39m.\u001b[39mexecute_with_cancellation(\n\u001b[1;32m    505\u001b[0m         \u001b[39mstr\u001b[39m(\u001b[39mself\u001b[39m\u001b[39m.\u001b[39msignature\u001b[39m.\u001b[39mname),\n\u001b[1;32m    506\u001b[0m         num_outputs\u001b[39m=\u001b[39m\u001b[39mself\u001b[39m\u001b[39m.\u001b[39m_num_outputs,\n\u001b[0;32m   (...)\u001b[0m\n\u001b[1;32m    509\u001b[0m         ctx\u001b[39m=\u001b[39mctx,\n\u001b[1;32m    510\u001b[0m         cancellation_manager\u001b[39m=\u001b[39mcancellation_manager)\n",
      "File \u001b[0;32m~/miniconda3/lib/python3.10/site-packages/tensorflow/python/eager/execute.py:54\u001b[0m, in \u001b[0;36mquick_execute\u001b[0;34m(op_name, num_outputs, inputs, attrs, ctx, name)\u001b[0m\n\u001b[1;32m     52\u001b[0m \u001b[39mtry\u001b[39;00m:\n\u001b[1;32m     53\u001b[0m   ctx\u001b[39m.\u001b[39mensure_initialized()\n\u001b[0;32m---> 54\u001b[0m   tensors \u001b[39m=\u001b[39m pywrap_tfe\u001b[39m.\u001b[39;49mTFE_Py_Execute(ctx\u001b[39m.\u001b[39;49m_handle, device_name, op_name,\n\u001b[1;32m     55\u001b[0m                                       inputs, attrs, num_outputs)\n\u001b[1;32m     56\u001b[0m \u001b[39mexcept\u001b[39;00m core\u001b[39m.\u001b[39m_NotOkStatusException \u001b[39mas\u001b[39;00m e:\n\u001b[1;32m     57\u001b[0m   \u001b[39mif\u001b[39;00m name \u001b[39mis\u001b[39;00m \u001b[39mnot\u001b[39;00m \u001b[39mNone\u001b[39;00m:\n",
      "\u001b[0;31mKeyboardInterrupt\u001b[0m: "
     ]
    }
   ],
   "source": [
    "\n",
    "mean_accuracy = cross_validate(build_model,5,20)\n",
    "print(f'Mean accuracy: {mean_accuracy:.4f}')\n"
   ]
  },
  {
   "cell_type": "code",
   "execution_count": 8,
   "metadata": {},
   "outputs": [
    {
     "name": "stdout",
     "output_type": "stream",
     "text": [
      "Epoch 1/50\n"
     ]
    },
    {
     "name": "stderr",
     "output_type": "stream",
     "text": [
      "2023-04-10 11:34:10.527539: I tensorflow/core/grappler/optimizers/custom_graph_optimizer_registry.cc:113] Plugin optimizer for device_type GPU is enabled.\n"
     ]
    },
    {
     "name": "stdout",
     "output_type": "stream",
     "text": [
      "249/250 [============================>.] - ETA: 0s - loss: 0.9976 - accuracy: 0.6698WARNING:tensorflow:Early stopping conditioned on metric `val_loss` which is not available. Available metrics are: loss,accuracy\n",
      "WARNING:tensorflow:Learning rate reduction is conditioned on metric `val_loss` which is not available. Available metrics are: loss,accuracy,lr\n",
      "250/250 [==============================] - 12s 42ms/step - loss: 0.9953 - accuracy: 0.6705 - lr: 1.0000e-04\n",
      "Epoch 2/50\n",
      "249/250 [============================>.] - ETA: 0s - loss: 0.5190 - accuracy: 0.8040WARNING:tensorflow:Early stopping conditioned on metric `val_loss` which is not available. Available metrics are: loss,accuracy\n",
      "WARNING:tensorflow:Learning rate reduction is conditioned on metric `val_loss` which is not available. Available metrics are: loss,accuracy,lr\n",
      "250/250 [==============================] - 10s 40ms/step - loss: 0.5207 - accuracy: 0.8030 - lr: 1.0000e-04\n",
      "Epoch 3/50\n",
      "250/250 [==============================] - ETA: 0s - loss: 0.3511 - accuracy: 0.8649WARNING:tensorflow:Early stopping conditioned on metric `val_loss` which is not available. Available metrics are: loss,accuracy\n",
      "WARNING:tensorflow:Learning rate reduction is conditioned on metric `val_loss` which is not available. Available metrics are: loss,accuracy,lr\n",
      "250/250 [==============================] - 10s 41ms/step - loss: 0.3511 - accuracy: 0.8649 - lr: 1.0000e-04\n",
      "Epoch 4/50\n",
      "250/250 [==============================] - ETA: 0s - loss: 0.2655 - accuracy: 0.9023WARNING:tensorflow:Early stopping conditioned on metric `val_loss` which is not available. Available metrics are: loss,accuracy\n",
      "WARNING:tensorflow:Learning rate reduction is conditioned on metric `val_loss` which is not available. Available metrics are: loss,accuracy,lr\n",
      "250/250 [==============================] - 10s 41ms/step - loss: 0.2655 - accuracy: 0.9023 - lr: 1.0000e-04\n",
      "Epoch 5/50\n",
      "249/250 [============================>.] - ETA: 0s - loss: 0.1993 - accuracy: 0.9242WARNING:tensorflow:Early stopping conditioned on metric `val_loss` which is not available. Available metrics are: loss,accuracy\n",
      "WARNING:tensorflow:Learning rate reduction is conditioned on metric `val_loss` which is not available. Available metrics are: loss,accuracy,lr\n",
      "250/250 [==============================] - 11s 44ms/step - loss: 0.1991 - accuracy: 0.9243 - lr: 1.0000e-04\n",
      "Epoch 6/50\n",
      "249/250 [============================>.] - ETA: 0s - loss: 0.1530 - accuracy: 0.9459WARNING:tensorflow:Early stopping conditioned on metric `val_loss` which is not available. Available metrics are: loss,accuracy\n",
      "WARNING:tensorflow:Learning rate reduction is conditioned on metric `val_loss` which is not available. Available metrics are: loss,accuracy,lr\n",
      "250/250 [==============================] - 10s 42ms/step - loss: 0.1533 - accuracy: 0.9459 - lr: 1.0000e-04\n",
      "Epoch 7/50\n",
      "249/250 [============================>.] - ETA: 0s - loss: 0.1248 - accuracy: 0.9544WARNING:tensorflow:Early stopping conditioned on metric `val_loss` which is not available. Available metrics are: loss,accuracy\n",
      "WARNING:tensorflow:Learning rate reduction is conditioned on metric `val_loss` which is not available. Available metrics are: loss,accuracy,lr\n",
      "250/250 [==============================] - 10s 40ms/step - loss: 0.1247 - accuracy: 0.9545 - lr: 1.0000e-04\n",
      "Epoch 8/50\n",
      "249/250 [============================>.] - ETA: 0s - loss: 0.1101 - accuracy: 0.9616WARNING:tensorflow:Early stopping conditioned on metric `val_loss` which is not available. Available metrics are: loss,accuracy\n",
      "WARNING:tensorflow:Learning rate reduction is conditioned on metric `val_loss` which is not available. Available metrics are: loss,accuracy,lr\n",
      "250/250 [==============================] - 10s 40ms/step - loss: 0.1098 - accuracy: 0.9618 - lr: 1.0000e-04\n",
      "Epoch 9/50\n",
      "250/250 [==============================] - ETA: 0s - loss: 0.1006 - accuracy: 0.9645WARNING:tensorflow:Early stopping conditioned on metric `val_loss` which is not available. Available metrics are: loss,accuracy\n",
      "WARNING:tensorflow:Learning rate reduction is conditioned on metric `val_loss` which is not available. Available metrics are: loss,accuracy,lr\n",
      "250/250 [==============================] - 10s 40ms/step - loss: 0.1006 - accuracy: 0.9645 - lr: 1.0000e-04\n",
      "Epoch 10/50\n",
      "177/250 [====================>.........] - ETA: 2s - loss: 0.0671 - accuracy: 0.9760"
     ]
    }
   ],
   "source": [
    "\n",
    "def train_final_model(model_builder, epochs=20):\n",
    "    X = np.concatenate([x for x, y in train_data] + [x for x, y in val_data])\n",
    "    y = np.concatenate([y for x, y in train_data] + [y for x, y in val_data])\n",
    "\n",
    "    final_model = model_builder()\n",
    "\n",
    "    # Definir el callback de EarlyStopping\n",
    "    early_stopping = EarlyStopping(monitor='loss', patience=3, min_delta=0.001)\n",
    "\n",
    "    # Agregar el callback al método fit\n",
    "    early_stopping = EarlyStopping(monitor='val_loss', patience=10, restore_best_weights=True)\n",
    "    reduce_lr = ReduceLROnPlateau(monitor='val_loss', factor=0.1, patience=3, min_lr=0.00001)\n",
    "\n",
    "    callbacks = [early_stopping, reduce_lr]\n",
    "    final_model.fit(X, y, epochs=epochs, batch_size=batch_size, callbacks=callbacks)\n",
    "\n",
    "    return final_model\n",
    "\n",
    "final_model = train_final_model(build_model,50)\n"
   ]
  },
  {
   "cell_type": "code",
   "execution_count": null,
   "metadata": {},
   "outputs": [],
   "source": [
    "test_loss, test_accuracy = final_model.evaluate(test_data)\n",
    "print(f'Test Loss: {test_loss:.4f}')\n",
    "print(f'Test Accuracy: {test_accuracy:.4f}')\n",
    "\n",
    "Y_pred = final_model.predict(test_data)\n",
    "y_pred = np.argmax(Y_pred, axis=1)\n",
    "\n",
    "y_true = np.concatenate([y.numpy() for _, y in test_data.unbatch()])\n",
    "y_true_labels = np.argmax(y_true.reshape(-1, len(class_names)), axis=1)\n",
    "\n",
    "print('Classification Report:')\n",
    "print(classification_report(y_true_labels, y_pred, target_names=class_names))\n",
    "\n",
    "print('Confusion Matrix:')\n",
    "print(confusion_matrix(y_true_labels, y_pred))\n"
   ]
  }
 ],
 "metadata": {
  "kernelspec": {
   "display_name": "base",
   "language": "python",
   "name": "python3"
  },
  "language_info": {
   "codemirror_mode": {
    "name": "ipython",
    "version": 3
   },
   "file_extension": ".py",
   "mimetype": "text/x-python",
   "name": "python",
   "nbconvert_exporter": "python",
   "pygments_lexer": "ipython3",
   "version": "3.10.9"
  },
  "orig_nbformat": 4
 },
 "nbformat": 4,
 "nbformat_minor": 2
}
