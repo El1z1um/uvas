{
 "cells": [
  {
   "cell_type": "code",
   "execution_count": 1,
   "metadata": {},
   "outputs": [],
   "source": [
    "import tensorflow as tf\n",
    "from tensorflow.keras.preprocessing import image_dataset_from_directory\n",
    "from tensorflow.keras.layers import Conv2D, BatchNormalization, MaxPooling2D, Flatten, Dense, Dropout, GlobalAveragePooling2D\n",
    "from tensorflow.keras.models import Sequential, Model\n",
    "from tensorflow.keras.optimizers import Adam, SGD\n",
    "from tensorflow.keras.callbacks import EarlyStopping, ReduceLROnPlateau\n",
    "from tensorflow.keras.applications import ResNet50, VGG16, VGG19, InceptionResNetV2\n",
    "\n",
    "from sklearn.model_selection import KFold\n",
    "from sklearn.metrics import classification_report, confusion_matrix\n",
    "import numpy as np\n"
   ]
  },
  {
   "cell_type": "code",
   "execution_count": 2,
   "metadata": {},
   "outputs": [],
   "source": [
    "\n",
    "img_height = 150\n",
    "img_width = 150\n",
    "batch_size = 32\n",
    "data_directory = '/Users/baudi/AI/practicas/uvas/data/train_val/'\n",
    "test_data_directory = '/Users/baudi/AI/practicas/uvas/data/test/'\n",
    "val_split = 0.2\n",
    "seed = 42\n",
    "num_classes = 4\n",
    "learning_rate = 0.0001\n"
   ]
  },
  {
   "cell_type": "code",
   "execution_count": 3,
   "metadata": {},
   "outputs": [
    {
     "name": "stdout",
     "output_type": "stream",
     "text": [
      "Found 3248 files belonging to 4 classes.\n",
      "Using 2599 files for training.\n",
      "Metal device set to: Apple M2 Pro\n",
      "\n",
      "systemMemory: 32.00 GB\n",
      "maxCacheSize: 10.67 GB\n",
      "\n",
      "Found 3248 files belonging to 4 classes.\n",
      "Using 649 files for validation.\n",
      "Found 814 files belonging to 4 classes.\n"
     ]
    },
    {
     "name": "stderr",
     "output_type": "stream",
     "text": [
      "2023-04-10 17:09:56.207727: I tensorflow/core/common_runtime/pluggable_device/pluggable_device_factory.cc:305] Could not identify NUMA node of platform GPU ID 0, defaulting to 0. Your kernel may not have been built with NUMA support.\n",
      "2023-04-10 17:09:56.207890: I tensorflow/core/common_runtime/pluggable_device/pluggable_device_factory.cc:271] Created TensorFlow device (/job:localhost/replica:0/task:0/device:GPU:0 with 0 MB memory) -> physical PluggableDevice (device: 0, name: METAL, pci bus id: <undefined>)\n"
     ]
    }
   ],
   "source": [
    "# Función para ajustar las imágenes de entrenamiento\n",
    "def adjustments(image):\n",
    "    # Ajustar el brillo de la imagen de forma aleatoria entre -0.2 y 0.2\n",
    "    image = tf.image.random_brightness(image, 0.2)\n",
    "    # Ajustar el contraste de la imagen de forma aleatoria entre 0.9 y 1.1\n",
    "    image = tf.image.random_contrast(image, 0.9, 1.1)\n",
    "    return image\n",
    "\n",
    "# Función para procesar las etiquetas\n",
    "def process_labels(images, labels):\n",
    "    # Convertir las etiquetas a one-hot encoding\n",
    "    one_hot_labels = tf.one_hot(labels, depth=num_classes)\n",
    "    return images, one_hot_labels\n",
    "\n",
    "# Cargar los datos de entrenamiento\n",
    "train_data_raw = image_dataset_from_directory(\n",
    "    data_directory,                     # Directorio donde se encuentran las imágenes\n",
    "    validation_split=val_split,         # Porcentaje del dataset a usar como validación\n",
    "    subset=\"training\",                  # Subconjunto de datos a utilizar\n",
    "    seed=seed,                          # Semilla aleatoria para la reproducibilidad\n",
    "    image_size=(img_height, img_width), # Tamaño de las imágenes\n",
    "    batch_size=batch_size               # Tamaño del batch de entrenamiento\n",
    ")\n",
    "\n",
    "# Obtener los nombres de las clases\n",
    "class_names = train_data_raw.class_names\n",
    "\n",
    "# Aplicar las funciones de ajuste y procesamiento de etiquetas a los datos de entrenamiento\n",
    "train_data = train_data_raw.map(lambda x, y: (adjustments(x), y)).map(process_labels).cache().prefetch(tf.data.experimental.AUTOTUNE)\n",
    "\n",
    "# Cargar los datos de validación\n",
    "val_data = image_dataset_from_directory(\n",
    "    data_directory,                     # Directorio donde se encuentran las imágenes\n",
    "    validation_split=val_split,         # Porcentaje del dataset a usar como validación\n",
    "    subset=\"validation\",                # Subconjunto de datos a utilizar\n",
    "    seed=seed,                          # Semilla aleatoria para la reproducibilidad\n",
    "    image_size=(img_height, img_width), # Tamaño de las imágenes\n",
    "    batch_size=batch_size               # Tamaño del batch de validación\n",
    ").map(process_labels).cache().prefetch(tf.data.experimental.AUTOTUNE)\n",
    "\n",
    "# Cargar los datos de prueba\n",
    "test_data = image_dataset_from_directory(\n",
    "    test_data_directory,                # Directorio donde se encuentran las imágenes de prueba\n",
    "    seed=seed,                          # Semilla aleatoria para la reproducibilidad\n",
    "    image_size=(img_height, img_width), # Tamaño de las imágenes de prueba\n",
    "    batch_size=batch_size               # Tamaño del batch de prueba\n",
    ").map(process_labels).cache().prefetch(tf.data.experimental.AUTOTUNE)\n"
   ]
  },
  {
   "cell_type": "code",
   "execution_count": 4,
   "metadata": {},
   "outputs": [],
   "source": [
    "def build_model():\n",
    "    # Cargar la red pre-entrenada VGG19\n",
    "    base_model = VGG19(weights='imagenet', include_top=False, input_shape=(img_height, img_width, 3))\n",
    "    \n",
    "    # Congelar todas las capas de la red base excepto las últimas 12\n",
    "    for layer in base_model.layers[:-12]:\n",
    "        layer.trainable = False\n",
    "        \n",
    "    # Añadir capas adicionales para la clasificación\n",
    "    x = base_model.output\n",
    "    x = GlobalAveragePooling2D()(x)\n",
    "    x = Dense(1024, activation='relu')(x)\n",
    "    x = Dropout(0.5)(x)\n",
    "    x = Dense(512, activation='relu')(x)\n",
    "    x = Dropout(0.5)(x)\n",
    "    output = Dense(num_classes, activation='softmax')(x)\n",
    "    \n",
    "    # Crear el modelo final\n",
    "    model = Model(inputs=base_model.input, outputs=output)\n",
    "    \n",
    "    # Compilar el modelo\n",
    "    model.compile(optimizer=Adam(learning_rate=learning_rate),\n",
    "                  loss='categorical_crossentropy',\n",
    "                  metrics=['accuracy'])\n",
    "    \n",
    "    return model\n"
   ]
  },
  {
   "cell_type": "code",
   "execution_count": 5,
   "metadata": {},
   "outputs": [],
   "source": [
    "def cross_validate(model_builder, n_splits=2, epochs=20):\n",
    "    # Crear un objeto KFold para dividir los datos en los folds de entrenamiento y validación\n",
    "    kfold = KFold(n_splits=n_splits, shuffle=True, random_state=42)\n",
    "    # Concatenar las imágenes y etiquetas de entrenamiento y validación en dos arrays separados\n",
    "    X = np.concatenate([x for x, y in train_data] + [x for x, y in val_data])\n",
    "    y = np.concatenate([y for x, y in train_data] + [y for x, y in val_data])\n",
    "\n",
    "    # Lista para guardar las precisiones de validación de cada fold\n",
    "    accuracies = []\n",
    "    # Iterar sobre cada fold\n",
    "    for fold, (train_idx, val_idx) in enumerate(kfold.split(X, y), start=1):\n",
    "        # Construir el modelo\n",
    "        model = model_builder()\n",
    "        print(f\"Comienza el entrenamiento del fold {fold}\")\n",
    "        # Definir los callbacks de EarlyStopping y ReduceLROnPlateau\n",
    "        early_stopping = EarlyStopping(monitor='val_loss', patience=10, restore_best_weights=True)\n",
    "        reduce_lr = ReduceLROnPlateau(monitor='val_loss', factor=0.1, patience=3, min_lr=0.00001)\n",
    "        callbacks = [early_stopping, reduce_lr]\n",
    "\n",
    "        # Entrenar el modelo en los datos del fold actual\n",
    "        history = model.fit(X[train_idx],\n",
    "                  y[train_idx],\n",
    "                  validation_data=(X[val_idx], y[val_idx]),\n",
    "                  batch_size = batch_size,\n",
    "                  epochs=epochs,\n",
    "                  callbacks=callbacks)\n",
    "        print(f\"Termina el entrenamiento del fold {fold}\")\n",
    "        # Guardar la precisión de validación del último epoch del entrenamiento del modelo\n",
    "        val_accuracy = history.history['val_accuracy']\n",
    "        last_val_accuracy = val_accuracy[-1]\n",
    "        print(f\"Precisión de validación del fold {fold}: {last_val_accuracy}\")\n",
    "\n",
    "        accuracies.append(last_val_accuracy)\n",
    "\n",
    "    # Calcular y devolver la media de las precisiones de validación de todos los folds\n",
    "    return np.mean(accuracies)"
   ]
  },
  {
   "cell_type": "code",
   "execution_count": 6,
   "metadata": {},
   "outputs": [
    {
     "name": "stderr",
     "output_type": "stream",
     "text": [
      "2023-04-10 17:09:56.451715: W tensorflow/core/platform/profile_utils/cpu_utils.cc:128] Failed to get CPU frequency: 0 Hz\n"
     ]
    },
    {
     "name": "stdout",
     "output_type": "stream",
     "text": [
      "Comienza el entrenamiento del fold 1\n",
      "Epoch 1/50\n"
     ]
    },
    {
     "name": "stderr",
     "output_type": "stream",
     "text": [
      "2023-04-10 17:09:57.942690: I tensorflow/core/grappler/optimizers/custom_graph_optimizer_registry.cc:113] Plugin optimizer for device_type GPU is enabled.\n"
     ]
    },
    {
     "name": "stdout",
     "output_type": "stream",
     "text": [
      "82/82 [==============================] - ETA: 0s - loss: 0.8743 - accuracy: 0.6420"
     ]
    },
    {
     "name": "stderr",
     "output_type": "stream",
     "text": [
      "2023-04-10 17:10:17.158123: I tensorflow/core/grappler/optimizers/custom_graph_optimizer_registry.cc:113] Plugin optimizer for device_type GPU is enabled.\n"
     ]
    },
    {
     "name": "stdout",
     "output_type": "stream",
     "text": [
      "82/82 [==============================] - 22s 262ms/step - loss: 0.8743 - accuracy: 0.6420 - val_loss: 0.3063 - val_accuracy: 0.8831 - lr: 1.0000e-04\n",
      "Epoch 2/50\n",
      "82/82 [==============================] - 20s 245ms/step - loss: 0.2063 - accuracy: 0.9303 - val_loss: 0.0942 - val_accuracy: 0.9708 - lr: 1.0000e-04\n",
      "Epoch 3/50\n",
      "82/82 [==============================] - 20s 244ms/step - loss: 0.1296 - accuracy: 0.9619 - val_loss: 0.0675 - val_accuracy: 0.9769 - lr: 1.0000e-04\n",
      "Epoch 4/50\n",
      "82/82 [==============================] - 20s 244ms/step - loss: 0.0651 - accuracy: 0.9781 - val_loss: 0.0521 - val_accuracy: 0.9800 - lr: 1.0000e-04\n",
      "Epoch 5/50\n",
      "82/82 [==============================] - 20s 244ms/step - loss: 0.1084 - accuracy: 0.9657 - val_loss: 0.0398 - val_accuracy: 0.9877 - lr: 1.0000e-04\n",
      "Epoch 6/50\n",
      "82/82 [==============================] - 20s 244ms/step - loss: 0.0287 - accuracy: 0.9908 - val_loss: 0.0257 - val_accuracy: 0.9923 - lr: 1.0000e-04\n",
      "Epoch 7/50\n",
      "82/82 [==============================] - 21s 253ms/step - loss: 0.0201 - accuracy: 0.9923 - val_loss: 0.0363 - val_accuracy: 0.9877 - lr: 1.0000e-04\n",
      "Epoch 8/50\n",
      "82/82 [==============================] - 20s 249ms/step - loss: 0.0033 - accuracy: 0.9988 - val_loss: 0.0311 - val_accuracy: 0.9938 - lr: 1.0000e-04\n",
      "Epoch 9/50\n",
      "82/82 [==============================] - 20s 249ms/step - loss: 0.0061 - accuracy: 0.9992 - val_loss: 0.0310 - val_accuracy: 0.9862 - lr: 1.0000e-04\n",
      "Epoch 10/50\n",
      "82/82 [==============================] - 20s 247ms/step - loss: 0.0023 - accuracy: 0.9992 - val_loss: 0.0224 - val_accuracy: 0.9938 - lr: 1.0000e-05\n",
      "Epoch 11/50\n",
      "82/82 [==============================] - 20s 248ms/step - loss: 3.5784e-04 - accuracy: 1.0000 - val_loss: 0.0206 - val_accuracy: 0.9954 - lr: 1.0000e-05\n",
      "Epoch 12/50\n",
      "82/82 [==============================] - 20s 245ms/step - loss: 1.9643e-04 - accuracy: 1.0000 - val_loss: 0.0205 - val_accuracy: 0.9954 - lr: 1.0000e-05\n",
      "Epoch 13/50\n",
      "82/82 [==============================] - 21s 253ms/step - loss: 2.2310e-04 - accuracy: 1.0000 - val_loss: 0.0206 - val_accuracy: 0.9954 - lr: 1.0000e-05\n",
      "Epoch 14/50\n",
      "82/82 [==============================] - 20s 245ms/step - loss: 1.6687e-04 - accuracy: 1.0000 - val_loss: 0.0202 - val_accuracy: 0.9954 - lr: 1.0000e-05\n",
      "Epoch 15/50\n",
      "82/82 [==============================] - 20s 245ms/step - loss: 1.1735e-04 - accuracy: 1.0000 - val_loss: 0.0197 - val_accuracy: 0.9954 - lr: 1.0000e-05\n",
      "Epoch 16/50\n",
      "82/82 [==============================] - 20s 247ms/step - loss: 1.3743e-04 - accuracy: 1.0000 - val_loss: 0.0197 - val_accuracy: 0.9954 - lr: 1.0000e-05\n",
      "Epoch 17/50\n",
      "82/82 [==============================] - 21s 253ms/step - loss: 9.3230e-05 - accuracy: 1.0000 - val_loss: 0.0195 - val_accuracy: 0.9954 - lr: 1.0000e-05\n",
      "Epoch 18/50\n",
      "82/82 [==============================] - 20s 246ms/step - loss: 7.9157e-05 - accuracy: 1.0000 - val_loss: 0.0195 - val_accuracy: 0.9954 - lr: 1.0000e-05\n",
      "Epoch 19/50\n",
      "82/82 [==============================] - 20s 248ms/step - loss: 4.5534e-05 - accuracy: 1.0000 - val_loss: 0.0194 - val_accuracy: 0.9954 - lr: 1.0000e-05\n",
      "Epoch 20/50\n",
      "82/82 [==============================] - 20s 247ms/step - loss: 9.3549e-05 - accuracy: 1.0000 - val_loss: 0.0191 - val_accuracy: 0.9954 - lr: 1.0000e-05\n",
      "Epoch 21/50\n",
      "82/82 [==============================] - 20s 248ms/step - loss: 5.0916e-05 - accuracy: 1.0000 - val_loss: 0.0191 - val_accuracy: 0.9954 - lr: 1.0000e-05\n",
      "Epoch 22/50\n",
      "82/82 [==============================] - 20s 248ms/step - loss: 4.1336e-05 - accuracy: 1.0000 - val_loss: 0.0194 - val_accuracy: 0.9938 - lr: 1.0000e-05\n",
      "Epoch 23/50\n",
      "82/82 [==============================] - 20s 249ms/step - loss: 5.3135e-05 - accuracy: 1.0000 - val_loss: 0.0189 - val_accuracy: 0.9938 - lr: 1.0000e-05\n",
      "Epoch 24/50\n",
      "82/82 [==============================] - 20s 247ms/step - loss: 4.7642e-05 - accuracy: 1.0000 - val_loss: 0.0193 - val_accuracy: 0.9938 - lr: 1.0000e-05\n",
      "Epoch 25/50\n",
      "82/82 [==============================] - 20s 247ms/step - loss: 5.7616e-05 - accuracy: 1.0000 - val_loss: 0.0192 - val_accuracy: 0.9938 - lr: 1.0000e-05\n",
      "Epoch 26/50\n",
      "82/82 [==============================] - 20s 247ms/step - loss: 3.9123e-05 - accuracy: 1.0000 - val_loss: 0.0200 - val_accuracy: 0.9938 - lr: 1.0000e-05\n",
      "Epoch 27/50\n",
      "82/82 [==============================] - 20s 246ms/step - loss: 2.8951e-05 - accuracy: 1.0000 - val_loss: 0.0201 - val_accuracy: 0.9938 - lr: 1.0000e-05\n",
      "Epoch 28/50\n",
      "82/82 [==============================] - 21s 254ms/step - loss: 2.7394e-05 - accuracy: 1.0000 - val_loss: 0.0202 - val_accuracy: 0.9938 - lr: 1.0000e-05\n",
      "Epoch 29/50\n",
      "82/82 [==============================] - 21s 252ms/step - loss: 2.8930e-05 - accuracy: 1.0000 - val_loss: 0.0200 - val_accuracy: 0.9938 - lr: 1.0000e-05\n",
      "Epoch 30/50\n",
      "82/82 [==============================] - 20s 249ms/step - loss: 2.6362e-05 - accuracy: 1.0000 - val_loss: 0.0210 - val_accuracy: 0.9938 - lr: 1.0000e-05\n",
      "Epoch 31/50\n",
      "82/82 [==============================] - 20s 245ms/step - loss: 2.0031e-05 - accuracy: 1.0000 - val_loss: 0.0208 - val_accuracy: 0.9938 - lr: 1.0000e-05\n",
      "Epoch 32/50\n",
      "82/82 [==============================] - 20s 245ms/step - loss: 1.8345e-05 - accuracy: 1.0000 - val_loss: 0.0210 - val_accuracy: 0.9938 - lr: 1.0000e-05\n",
      "Epoch 33/50\n",
      "82/82 [==============================] - 20s 245ms/step - loss: 1.6165e-05 - accuracy: 1.0000 - val_loss: 0.0216 - val_accuracy: 0.9938 - lr: 1.0000e-05\n",
      "Termina el entrenamiento del fold 1\n",
      "Precisión de validación del fold 1: 0.9938461780548096\n",
      "Comienza el entrenamiento del fold 2\n",
      "Epoch 1/50\n"
     ]
    },
    {
     "name": "stderr",
     "output_type": "stream",
     "text": [
      "2023-04-10 17:21:09.034174: I tensorflow/core/grappler/optimizers/custom_graph_optimizer_registry.cc:113] Plugin optimizer for device_type GPU is enabled.\n"
     ]
    },
    {
     "name": "stdout",
     "output_type": "stream",
     "text": [
      "82/82 [==============================] - ETA: 0s - loss: 1.2085 - accuracy: 0.4557"
     ]
    },
    {
     "name": "stderr",
     "output_type": "stream",
     "text": [
      "2023-04-10 17:21:27.400118: I tensorflow/core/grappler/optimizers/custom_graph_optimizer_registry.cc:113] Plugin optimizer for device_type GPU is enabled.\n"
     ]
    },
    {
     "name": "stdout",
     "output_type": "stream",
     "text": [
      "82/82 [==============================] - 21s 251ms/step - loss: 1.2085 - accuracy: 0.4557 - val_loss: 0.6500 - val_accuracy: 0.6354 - lr: 1.0000e-04\n",
      "Epoch 2/50\n",
      "82/82 [==============================] - 20s 245ms/step - loss: 0.5224 - accuracy: 0.7683 - val_loss: 0.5134 - val_accuracy: 0.7754 - lr: 1.0000e-04\n",
      "Epoch 3/50\n",
      "82/82 [==============================] - 20s 249ms/step - loss: 0.2872 - accuracy: 0.8949 - val_loss: 0.2689 - val_accuracy: 0.9231 - lr: 1.0000e-04\n",
      "Epoch 4/50\n",
      "82/82 [==============================] - 20s 249ms/step - loss: 0.1113 - accuracy: 0.9638 - val_loss: 0.1343 - val_accuracy: 0.9615 - lr: 1.0000e-04\n",
      "Epoch 5/50\n",
      "82/82 [==============================] - 20s 249ms/step - loss: 0.0653 - accuracy: 0.9777 - val_loss: 0.0470 - val_accuracy: 0.9815 - lr: 1.0000e-04\n",
      "Epoch 6/50\n",
      "82/82 [==============================] - 20s 249ms/step - loss: 0.0351 - accuracy: 0.9873 - val_loss: 0.0555 - val_accuracy: 0.9831 - lr: 1.0000e-04\n",
      "Epoch 7/50\n",
      "82/82 [==============================] - 20s 248ms/step - loss: 0.0380 - accuracy: 0.9892 - val_loss: 0.1603 - val_accuracy: 0.9615 - lr: 1.0000e-04\n",
      "Epoch 8/50\n",
      "82/82 [==============================] - 20s 249ms/step - loss: 0.1891 - accuracy: 0.9453 - val_loss: 0.0571 - val_accuracy: 0.9846 - lr: 1.0000e-04\n",
      "Epoch 9/50\n",
      "82/82 [==============================] - 20s 249ms/step - loss: 0.0198 - accuracy: 0.9942 - val_loss: 0.0420 - val_accuracy: 0.9862 - lr: 1.0000e-05\n",
      "Epoch 10/50\n",
      "82/82 [==============================] - 20s 248ms/step - loss: 0.0085 - accuracy: 0.9985 - val_loss: 0.0420 - val_accuracy: 0.9877 - lr: 1.0000e-05\n",
      "Epoch 11/50\n",
      "82/82 [==============================] - 20s 248ms/step - loss: 0.0081 - accuracy: 0.9969 - val_loss: 0.0424 - val_accuracy: 0.9877 - lr: 1.0000e-05\n",
      "Epoch 12/50\n",
      "82/82 [==============================] - 21s 254ms/step - loss: 0.0057 - accuracy: 0.9988 - val_loss: 0.0447 - val_accuracy: 0.9892 - lr: 1.0000e-05\n",
      "Epoch 13/50\n",
      "82/82 [==============================] - 21s 251ms/step - loss: 0.0038 - accuracy: 0.9988 - val_loss: 0.0439 - val_accuracy: 0.9862 - lr: 1.0000e-05\n",
      "Epoch 14/50\n",
      "82/82 [==============================] - 20s 248ms/step - loss: 0.0026 - accuracy: 0.9996 - val_loss: 0.0472 - val_accuracy: 0.9892 - lr: 1.0000e-05\n",
      "Epoch 15/50\n",
      "82/82 [==============================] - 21s 253ms/step - loss: 0.0016 - accuracy: 1.0000 - val_loss: 0.0491 - val_accuracy: 0.9892 - lr: 1.0000e-05\n",
      "Epoch 16/50\n",
      "82/82 [==============================] - 20s 249ms/step - loss: 0.0012 - accuracy: 1.0000 - val_loss: 0.0506 - val_accuracy: 0.9892 - lr: 1.0000e-05\n",
      "Epoch 17/50\n",
      "82/82 [==============================] - 21s 254ms/step - loss: 8.8175e-04 - accuracy: 1.0000 - val_loss: 0.0496 - val_accuracy: 0.9892 - lr: 1.0000e-05\n",
      "Epoch 18/50\n",
      "82/82 [==============================] - 21s 251ms/step - loss: 0.0057 - accuracy: 0.9977 - val_loss: 0.0542 - val_accuracy: 0.9892 - lr: 1.0000e-05\n",
      "Epoch 19/50\n",
      "82/82 [==============================] - 21s 251ms/step - loss: 0.0016 - accuracy: 0.9996 - val_loss: 0.0485 - val_accuracy: 0.9892 - lr: 1.0000e-05\n",
      "Termina el entrenamiento del fold 2\n",
      "Precisión de validación del fold 2: 0.989230751991272\n",
      "Comienza el entrenamiento del fold 3\n",
      "Epoch 1/50\n"
     ]
    },
    {
     "name": "stderr",
     "output_type": "stream",
     "text": [
      "2023-04-10 17:27:38.778108: I tensorflow/core/grappler/optimizers/custom_graph_optimizer_registry.cc:113] Plugin optimizer for device_type GPU is enabled.\n"
     ]
    },
    {
     "name": "stdout",
     "output_type": "stream",
     "text": [
      "82/82 [==============================] - ETA: 0s - loss: 1.3976 - accuracy: 0.3237"
     ]
    },
    {
     "name": "stderr",
     "output_type": "stream",
     "text": [
      "2023-04-10 17:27:57.753455: I tensorflow/core/grappler/optimizers/custom_graph_optimizer_registry.cc:113] Plugin optimizer for device_type GPU is enabled.\n"
     ]
    },
    {
     "name": "stdout",
     "output_type": "stream",
     "text": [
      "82/82 [==============================] - 22s 259ms/step - loss: 1.3976 - accuracy: 0.3237 - val_loss: 1.0777 - val_accuracy: 0.4308 - lr: 1.0000e-04\n",
      "Epoch 2/50\n",
      "82/82 [==============================] - 20s 249ms/step - loss: 0.9670 - accuracy: 0.5708 - val_loss: 1.2852 - val_accuracy: 0.3508 - lr: 1.0000e-04\n",
      "Epoch 3/50\n",
      "82/82 [==============================] - 20s 238ms/step - loss: 0.5652 - accuracy: 0.7571 - val_loss: 0.2145 - val_accuracy: 0.8677 - lr: 1.0000e-04\n",
      "Epoch 4/50\n",
      "82/82 [==============================] - 19s 237ms/step - loss: 0.3626 - accuracy: 0.8437 - val_loss: 0.3678 - val_accuracy: 0.8231 - lr: 1.0000e-04\n",
      "Epoch 5/50\n",
      "82/82 [==============================] - 19s 237ms/step - loss: 0.2181 - accuracy: 0.9496 - val_loss: 0.1530 - val_accuracy: 0.9800 - lr: 1.0000e-04\n",
      "Epoch 6/50\n",
      "82/82 [==============================] - 19s 237ms/step - loss: 0.1433 - accuracy: 0.9850 - val_loss: 0.1574 - val_accuracy: 0.9785 - lr: 1.0000e-04\n",
      "Epoch 7/50\n",
      "82/82 [==============================] - 19s 237ms/step - loss: 0.0892 - accuracy: 0.9765 - val_loss: 0.0202 - val_accuracy: 0.9908 - lr: 1.0000e-04\n",
      "Epoch 8/50\n",
      "82/82 [==============================] - 19s 237ms/step - loss: 0.0773 - accuracy: 0.9777 - val_loss: 0.1766 - val_accuracy: 0.9462 - lr: 1.0000e-04\n",
      "Epoch 9/50\n",
      "82/82 [==============================] - 19s 237ms/step - loss: 0.0165 - accuracy: 0.9958 - val_loss: 0.0379 - val_accuracy: 0.9877 - lr: 1.0000e-04\n",
      "Epoch 10/50\n",
      "82/82 [==============================] - 19s 237ms/step - loss: 0.0352 - accuracy: 0.9888 - val_loss: 0.0437 - val_accuracy: 0.9800 - lr: 1.0000e-04\n",
      "Epoch 11/50\n",
      "82/82 [==============================] - 19s 237ms/step - loss: 0.0121 - accuracy: 0.9973 - val_loss: 0.0186 - val_accuracy: 0.9938 - lr: 1.0000e-05\n",
      "Epoch 12/50\n",
      "82/82 [==============================] - 19s 237ms/step - loss: 0.0050 - accuracy: 0.9996 - val_loss: 0.0176 - val_accuracy: 0.9938 - lr: 1.0000e-05\n",
      "Epoch 13/50\n",
      "82/82 [==============================] - 19s 237ms/step - loss: 0.0036 - accuracy: 0.9996 - val_loss: 0.0145 - val_accuracy: 0.9954 - lr: 1.0000e-05\n",
      "Epoch 14/50\n",
      "82/82 [==============================] - 19s 237ms/step - loss: 0.0020 - accuracy: 1.0000 - val_loss: 0.0127 - val_accuracy: 0.9954 - lr: 1.0000e-05\n",
      "Epoch 15/50\n",
      "82/82 [==============================] - 19s 237ms/step - loss: 0.0016 - accuracy: 1.0000 - val_loss: 0.0118 - val_accuracy: 0.9954 - lr: 1.0000e-05\n",
      "Epoch 16/50\n",
      "82/82 [==============================] - 19s 237ms/step - loss: 0.0011 - accuracy: 1.0000 - val_loss: 0.0107 - val_accuracy: 0.9938 - lr: 1.0000e-05\n",
      "Epoch 17/50\n",
      "82/82 [==============================] - 19s 237ms/step - loss: 8.9721e-04 - accuracy: 1.0000 - val_loss: 0.0110 - val_accuracy: 0.9954 - lr: 1.0000e-05\n",
      "Epoch 18/50\n",
      "82/82 [==============================] - 19s 237ms/step - loss: 7.6578e-04 - accuracy: 1.0000 - val_loss: 0.0099 - val_accuracy: 0.9938 - lr: 1.0000e-05\n",
      "Epoch 19/50\n",
      "82/82 [==============================] - 19s 237ms/step - loss: 5.9544e-04 - accuracy: 1.0000 - val_loss: 0.0094 - val_accuracy: 0.9938 - lr: 1.0000e-05\n",
      "Epoch 20/50\n",
      "82/82 [==============================] - 19s 236ms/step - loss: 5.1359e-04 - accuracy: 1.0000 - val_loss: 0.0100 - val_accuracy: 0.9954 - lr: 1.0000e-05\n",
      "Epoch 21/50\n",
      "82/82 [==============================] - 19s 237ms/step - loss: 4.5113e-04 - accuracy: 1.0000 - val_loss: 0.0093 - val_accuracy: 0.9938 - lr: 1.0000e-05\n",
      "Epoch 22/50\n",
      "82/82 [==============================] - 19s 237ms/step - loss: 4.2667e-04 - accuracy: 1.0000 - val_loss: 0.0090 - val_accuracy: 0.9938 - lr: 1.0000e-05\n",
      "Epoch 23/50\n",
      "82/82 [==============================] - 20s 239ms/step - loss: 2.2154e-04 - accuracy: 1.0000 - val_loss: 0.0090 - val_accuracy: 0.9938 - lr: 1.0000e-05\n",
      "Epoch 24/50\n",
      "82/82 [==============================] - 20s 241ms/step - loss: 2.4291e-04 - accuracy: 1.0000 - val_loss: 0.0089 - val_accuracy: 0.9938 - lr: 1.0000e-05\n",
      "Epoch 25/50\n",
      "82/82 [==============================] - 20s 243ms/step - loss: 2.3215e-04 - accuracy: 1.0000 - val_loss: 0.0091 - val_accuracy: 0.9938 - lr: 1.0000e-05\n",
      "Epoch 26/50\n",
      "82/82 [==============================] - 20s 243ms/step - loss: 2.0264e-04 - accuracy: 1.0000 - val_loss: 0.0090 - val_accuracy: 0.9938 - lr: 1.0000e-05\n",
      "Epoch 27/50\n",
      "82/82 [==============================] - 20s 249ms/step - loss: 2.2405e-04 - accuracy: 1.0000 - val_loss: 0.0095 - val_accuracy: 0.9954 - lr: 1.0000e-05\n",
      "Epoch 28/50\n",
      "82/82 [==============================] - 19s 236ms/step - loss: 1.5332e-04 - accuracy: 1.0000 - val_loss: 0.0089 - val_accuracy: 0.9954 - lr: 1.0000e-05\n",
      "Epoch 29/50\n",
      "82/82 [==============================] - 19s 233ms/step - loss: 8.3303e-05 - accuracy: 1.0000 - val_loss: 0.0089 - val_accuracy: 0.9954 - lr: 1.0000e-05\n",
      "Epoch 30/50\n",
      "82/82 [==============================] - 19s 233ms/step - loss: 1.0159e-04 - accuracy: 1.0000 - val_loss: 0.0090 - val_accuracy: 0.9954 - lr: 1.0000e-05\n",
      "Epoch 31/50\n",
      "82/82 [==============================] - 19s 233ms/step - loss: 1.2223e-04 - accuracy: 1.0000 - val_loss: 0.0088 - val_accuracy: 0.9938 - lr: 1.0000e-05\n",
      "Epoch 32/50\n",
      "82/82 [==============================] - 19s 232ms/step - loss: 1.1009e-04 - accuracy: 1.0000 - val_loss: 0.0090 - val_accuracy: 0.9954 - lr: 1.0000e-05\n",
      "Epoch 33/50\n",
      "82/82 [==============================] - 19s 233ms/step - loss: 1.4360e-04 - accuracy: 1.0000 - val_loss: 0.0086 - val_accuracy: 0.9954 - lr: 1.0000e-05\n",
      "Epoch 34/50\n",
      "82/82 [==============================] - 19s 233ms/step - loss: 7.4067e-05 - accuracy: 1.0000 - val_loss: 0.0084 - val_accuracy: 0.9938 - lr: 1.0000e-05\n",
      "Epoch 35/50\n",
      "82/82 [==============================] - 19s 232ms/step - loss: 6.1965e-05 - accuracy: 1.0000 - val_loss: 0.0086 - val_accuracy: 0.9954 - lr: 1.0000e-05\n",
      "Epoch 36/50\n",
      "82/82 [==============================] - 19s 233ms/step - loss: 6.3565e-05 - accuracy: 1.0000 - val_loss: 0.0084 - val_accuracy: 0.9938 - lr: 1.0000e-05\n",
      "Epoch 37/50\n",
      "82/82 [==============================] - 19s 233ms/step - loss: 5.0601e-05 - accuracy: 1.0000 - val_loss: 0.0081 - val_accuracy: 0.9923 - lr: 1.0000e-05\n",
      "Epoch 38/50\n",
      "82/82 [==============================] - 19s 232ms/step - loss: 4.1831e-05 - accuracy: 1.0000 - val_loss: 0.0082 - val_accuracy: 0.9938 - lr: 1.0000e-05\n",
      "Epoch 39/50\n",
      "82/82 [==============================] - 19s 232ms/step - loss: 3.8230e-05 - accuracy: 1.0000 - val_loss: 0.0082 - val_accuracy: 0.9938 - lr: 1.0000e-05\n",
      "Epoch 40/50\n",
      "82/82 [==============================] - 19s 232ms/step - loss: 5.2800e-05 - accuracy: 1.0000 - val_loss: 0.0082 - val_accuracy: 0.9938 - lr: 1.0000e-05\n",
      "Epoch 41/50\n",
      "82/82 [==============================] - 19s 232ms/step - loss: 4.5570e-05 - accuracy: 1.0000 - val_loss: 0.0081 - val_accuracy: 0.9938 - lr: 1.0000e-05\n",
      "Epoch 42/50\n",
      "82/82 [==============================] - 19s 232ms/step - loss: 3.8823e-05 - accuracy: 1.0000 - val_loss: 0.0088 - val_accuracy: 0.9938 - lr: 1.0000e-05\n",
      "Epoch 43/50\n",
      "82/82 [==============================] - 19s 232ms/step - loss: 2.5706e-05 - accuracy: 1.0000 - val_loss: 0.0091 - val_accuracy: 0.9954 - lr: 1.0000e-05\n",
      "Epoch 44/50\n",
      "82/82 [==============================] - 19s 232ms/step - loss: 2.6914e-05 - accuracy: 1.0000 - val_loss: 0.0086 - val_accuracy: 0.9938 - lr: 1.0000e-05\n",
      "Epoch 45/50\n",
      "82/82 [==============================] - 19s 232ms/step - loss: 3.1825e-05 - accuracy: 1.0000 - val_loss: 0.0083 - val_accuracy: 0.9938 - lr: 1.0000e-05\n",
      "Epoch 46/50\n",
      "82/82 [==============================] - 19s 232ms/step - loss: 2.5727e-05 - accuracy: 1.0000 - val_loss: 0.0081 - val_accuracy: 0.9938 - lr: 1.0000e-05\n",
      "Epoch 47/50\n",
      "82/82 [==============================] - 19s 232ms/step - loss: 2.2232e-05 - accuracy: 1.0000 - val_loss: 0.0083 - val_accuracy: 0.9938 - lr: 1.0000e-05\n",
      "Termina el entrenamiento del fold 3\n",
      "Precisión de validación del fold 3: 0.9938461780548096\n",
      "Comienza el entrenamiento del fold 4\n",
      "Epoch 1/50\n"
     ]
    },
    {
     "name": "stderr",
     "output_type": "stream",
     "text": [
      "2023-04-10 17:42:50.492771: I tensorflow/core/grappler/optimizers/custom_graph_optimizer_registry.cc:113] Plugin optimizer for device_type GPU is enabled.\n"
     ]
    },
    {
     "name": "stdout",
     "output_type": "stream",
     "text": [
      "82/82 [==============================] - ETA: 0s - loss: 0.9500 - accuracy: 0.6072"
     ]
    },
    {
     "name": "stderr",
     "output_type": "stream",
     "text": [
      "2023-04-10 17:43:08.024954: I tensorflow/core/grappler/optimizers/custom_graph_optimizer_registry.cc:113] Plugin optimizer for device_type GPU is enabled.\n"
     ]
    },
    {
     "name": "stdout",
     "output_type": "stream",
     "text": [
      "82/82 [==============================] - 20s 240ms/step - loss: 0.9500 - accuracy: 0.6072 - val_loss: 0.4510 - val_accuracy: 0.7581 - lr: 1.0000e-04\n",
      "Epoch 2/50\n",
      "82/82 [==============================] - 19s 233ms/step - loss: 0.3651 - accuracy: 0.8472 - val_loss: 0.1168 - val_accuracy: 0.9569 - lr: 1.0000e-04\n",
      "Epoch 3/50\n",
      "82/82 [==============================] - 19s 233ms/step - loss: 0.0949 - accuracy: 0.9669 - val_loss: 0.0631 - val_accuracy: 0.9753 - lr: 1.0000e-04\n",
      "Epoch 4/50\n",
      "82/82 [==============================] - 19s 232ms/step - loss: 0.2398 - accuracy: 0.9207 - val_loss: 0.2471 - val_accuracy: 0.9060 - lr: 1.0000e-04\n",
      "Epoch 5/50\n",
      "82/82 [==============================] - 19s 232ms/step - loss: 0.0753 - accuracy: 0.9742 - val_loss: 0.0620 - val_accuracy: 0.9738 - lr: 1.0000e-04\n",
      "Epoch 6/50\n",
      "82/82 [==============================] - 19s 233ms/step - loss: 0.0580 - accuracy: 0.9785 - val_loss: 0.0495 - val_accuracy: 0.9815 - lr: 1.0000e-04\n",
      "Epoch 7/50\n",
      "82/82 [==============================] - 19s 232ms/step - loss: 0.0212 - accuracy: 0.9954 - val_loss: 0.0559 - val_accuracy: 0.9784 - lr: 1.0000e-04\n",
      "Epoch 8/50\n",
      "82/82 [==============================] - 19s 232ms/step - loss: 0.0242 - accuracy: 0.9927 - val_loss: 0.0267 - val_accuracy: 0.9877 - lr: 1.0000e-04\n",
      "Epoch 9/50\n",
      "82/82 [==============================] - 19s 232ms/step - loss: 0.0340 - accuracy: 0.9908 - val_loss: 0.1172 - val_accuracy: 0.9599 - lr: 1.0000e-04\n",
      "Epoch 10/50\n",
      "82/82 [==============================] - 19s 232ms/step - loss: 0.1285 - accuracy: 0.9623 - val_loss: 0.0429 - val_accuracy: 0.9784 - lr: 1.0000e-04\n",
      "Epoch 11/50\n",
      "82/82 [==============================] - 19s 232ms/step - loss: 0.0437 - accuracy: 0.9869 - val_loss: 0.1535 - val_accuracy: 0.9414 - lr: 1.0000e-04\n",
      "Epoch 12/50\n",
      "82/82 [==============================] - 19s 232ms/step - loss: 0.0233 - accuracy: 0.9938 - val_loss: 0.0224 - val_accuracy: 0.9938 - lr: 1.0000e-05\n",
      "Epoch 13/50\n",
      "82/82 [==============================] - 19s 233ms/step - loss: 0.0061 - accuracy: 0.9996 - val_loss: 0.0181 - val_accuracy: 0.9938 - lr: 1.0000e-05\n",
      "Epoch 14/50\n",
      "82/82 [==============================] - 19s 233ms/step - loss: 0.0037 - accuracy: 1.0000 - val_loss: 0.0162 - val_accuracy: 0.9938 - lr: 1.0000e-05\n",
      "Epoch 15/50\n",
      "82/82 [==============================] - 19s 232ms/step - loss: 0.0029 - accuracy: 0.9996 - val_loss: 0.0146 - val_accuracy: 0.9938 - lr: 1.0000e-05\n",
      "Epoch 16/50\n",
      "82/82 [==============================] - 19s 232ms/step - loss: 0.0018 - accuracy: 1.0000 - val_loss: 0.0145 - val_accuracy: 0.9954 - lr: 1.0000e-05\n",
      "Epoch 17/50\n",
      "82/82 [==============================] - 19s 232ms/step - loss: 0.0013 - accuracy: 1.0000 - val_loss: 0.0146 - val_accuracy: 0.9954 - lr: 1.0000e-05\n",
      "Epoch 18/50\n",
      "82/82 [==============================] - 19s 232ms/step - loss: 0.0010 - accuracy: 1.0000 - val_loss: 0.0146 - val_accuracy: 0.9954 - lr: 1.0000e-05\n",
      "Epoch 19/50\n",
      "82/82 [==============================] - 19s 232ms/step - loss: 8.8885e-04 - accuracy: 1.0000 - val_loss: 0.0137 - val_accuracy: 0.9954 - lr: 1.0000e-05\n",
      "Epoch 20/50\n",
      "82/82 [==============================] - 20s 241ms/step - loss: 6.6483e-04 - accuracy: 1.0000 - val_loss: 0.0145 - val_accuracy: 0.9954 - lr: 1.0000e-05\n",
      "Epoch 21/50\n",
      "82/82 [==============================] - 19s 233ms/step - loss: 5.5047e-04 - accuracy: 1.0000 - val_loss: 0.0135 - val_accuracy: 0.9954 - lr: 1.0000e-05\n",
      "Epoch 22/50\n",
      "82/82 [==============================] - 19s 232ms/step - loss: 4.5922e-04 - accuracy: 1.0000 - val_loss: 0.0139 - val_accuracy: 0.9954 - lr: 1.0000e-05\n",
      "Epoch 23/50\n",
      "82/82 [==============================] - 115s 1s/step - loss: 2.9702e-04 - accuracy: 1.0000 - val_loss: 0.0151 - val_accuracy: 0.9954 - lr: 1.0000e-05\n",
      "Epoch 24/50\n",
      "82/82 [==============================] - 20s 239ms/step - loss: 2.8272e-04 - accuracy: 1.0000 - val_loss: 0.0160 - val_accuracy: 0.9954 - lr: 1.0000e-05\n",
      "Epoch 25/50\n",
      "82/82 [==============================] - 20s 239ms/step - loss: 1.9155e-04 - accuracy: 1.0000 - val_loss: 0.0163 - val_accuracy: 0.9954 - lr: 1.0000e-05\n",
      "Epoch 26/50\n",
      "82/82 [==============================] - 19s 237ms/step - loss: 1.6392e-04 - accuracy: 1.0000 - val_loss: 0.0166 - val_accuracy: 0.9954 - lr: 1.0000e-05\n",
      "Epoch 27/50\n",
      "82/82 [==============================] - 19s 236ms/step - loss: 1.4186e-04 - accuracy: 1.0000 - val_loss: 0.0169 - val_accuracy: 0.9954 - lr: 1.0000e-05\n",
      "Epoch 28/50\n",
      "82/82 [==============================] - 19s 236ms/step - loss: 1.2940e-04 - accuracy: 1.0000 - val_loss: 0.0173 - val_accuracy: 0.9954 - lr: 1.0000e-05\n",
      "Epoch 29/50\n",
      "82/82 [==============================] - 19s 237ms/step - loss: 1.3273e-04 - accuracy: 1.0000 - val_loss: 0.0175 - val_accuracy: 0.9954 - lr: 1.0000e-05\n",
      "Epoch 30/50\n",
      "82/82 [==============================] - 20s 238ms/step - loss: 1.0682e-04 - accuracy: 1.0000 - val_loss: 0.0178 - val_accuracy: 0.9938 - lr: 1.0000e-05\n",
      "Epoch 31/50\n",
      "82/82 [==============================] - 20s 241ms/step - loss: 9.9066e-05 - accuracy: 1.0000 - val_loss: 0.0184 - val_accuracy: 0.9938 - lr: 1.0000e-05\n",
      "Termina el entrenamiento del fold 4\n",
      "Precisión de validación del fold 4: 0.9938367009162903\n",
      "Comienza el entrenamiento del fold 5\n",
      "Epoch 1/50\n"
     ]
    },
    {
     "name": "stderr",
     "output_type": "stream",
     "text": [
      "2023-04-10 17:54:22.656581: I tensorflow/core/grappler/optimizers/custom_graph_optimizer_registry.cc:113] Plugin optimizer for device_type GPU is enabled.\n"
     ]
    },
    {
     "name": "stdout",
     "output_type": "stream",
     "text": [
      "82/82 [==============================] - ETA: 0s - loss: 1.0222 - accuracy: 0.5525"
     ]
    },
    {
     "name": "stderr",
     "output_type": "stream",
     "text": [
      "2023-04-10 17:54:40.902835: I tensorflow/core/grappler/optimizers/custom_graph_optimizer_registry.cc:113] Plugin optimizer for device_type GPU is enabled.\n"
     ]
    },
    {
     "name": "stdout",
     "output_type": "stream",
     "text": [
      "82/82 [==============================] - 21s 248ms/step - loss: 1.0222 - accuracy: 0.5525 - val_loss: 0.3971 - val_accuracy: 0.8120 - lr: 1.0000e-04\n",
      "Epoch 2/50\n",
      "82/82 [==============================] - 20s 241ms/step - loss: 1.2441 - accuracy: 0.3986 - val_loss: 1.3780 - val_accuracy: 0.3112 - lr: 1.0000e-04\n",
      "Epoch 3/50\n",
      "82/82 [==============================] - 20s 245ms/step - loss: 1.3696 - accuracy: 0.2897 - val_loss: 1.3619 - val_accuracy: 0.3112 - lr: 1.0000e-04\n",
      "Epoch 4/50\n",
      "82/82 [==============================] - 19s 238ms/step - loss: 1.3541 - accuracy: 0.3001 - val_loss: 1.3487 - val_accuracy: 0.3174 - lr: 1.0000e-04\n",
      "Epoch 5/50\n",
      "82/82 [==============================] - 19s 237ms/step - loss: 1.3464 - accuracy: 0.3240 - val_loss: 1.3476 - val_accuracy: 0.3174 - lr: 1.0000e-05\n",
      "Epoch 6/50\n",
      "82/82 [==============================] - 19s 237ms/step - loss: 1.3449 - accuracy: 0.3351 - val_loss: 1.3465 - val_accuracy: 0.3174 - lr: 1.0000e-05\n",
      "Epoch 7/50\n",
      "82/82 [==============================] - 20s 242ms/step - loss: 1.3432 - accuracy: 0.3347 - val_loss: 1.3454 - val_accuracy: 0.3174 - lr: 1.0000e-05\n",
      "Epoch 8/50\n",
      "82/82 [==============================] - 20s 239ms/step - loss: 1.3424 - accuracy: 0.3340 - val_loss: 1.3443 - val_accuracy: 0.3174 - lr: 1.0000e-05\n",
      "Epoch 9/50\n",
      "82/82 [==============================] - 19s 236ms/step - loss: 1.3410 - accuracy: 0.3367 - val_loss: 1.3433 - val_accuracy: 0.3174 - lr: 1.0000e-05\n",
      "Epoch 10/50\n",
      "82/82 [==============================] - 19s 237ms/step - loss: 1.3396 - accuracy: 0.3421 - val_loss: 1.3422 - val_accuracy: 0.3174 - lr: 1.0000e-05\n",
      "Epoch 11/50\n",
      "82/82 [==============================] - 19s 237ms/step - loss: 1.3385 - accuracy: 0.3428 - val_loss: 1.3412 - val_accuracy: 0.3174 - lr: 1.0000e-05\n",
      "Termina el entrenamiento del fold 5\n",
      "Precisión de validación del fold 5: 0.3174114227294922\n",
      "Mean accuracy: 0.8576\n"
     ]
    }
   ],
   "source": [
    "#Realizar la validación cruzada\n",
    "mean_accuracy = cross_validate(build_model,5,50)\n",
    "print(f'Mean accuracy: {mean_accuracy:.4f}')\n"
   ]
  },
  {
   "cell_type": "code",
   "execution_count": 7,
   "metadata": {},
   "outputs": [
    {
     "name": "stdout",
     "output_type": "stream",
     "text": [
      "Epoch 1/50\n"
     ]
    },
    {
     "name": "stderr",
     "output_type": "stream",
     "text": [
      "2023-04-10 17:58:00.288249: I tensorflow/core/grappler/optimizers/custom_graph_optimizer_registry.cc:113] Plugin optimizer for device_type GPU is enabled.\n"
     ]
    },
    {
     "name": "stdout",
     "output_type": "stream",
     "text": [
      "82/82 [==============================] - ETA: 0s - loss: 1.3583 - accuracy: 0.4271"
     ]
    },
    {
     "name": "stderr",
     "output_type": "stream",
     "text": [
      "2023-04-10 17:58:18.780937: I tensorflow/core/grappler/optimizers/custom_graph_optimizer_registry.cc:113] Plugin optimizer for device_type GPU is enabled.\n"
     ]
    },
    {
     "name": "stdout",
     "output_type": "stream",
     "text": [
      "82/82 [==============================] - 22s 253ms/step - loss: 1.3583 - accuracy: 0.4271 - val_loss: 0.8014 - val_accuracy: 0.6487 - lr: 1.0000e-04\n",
      "Epoch 2/50\n",
      "82/82 [==============================] - 20s 240ms/step - loss: 0.5768 - accuracy: 0.7230 - val_loss: 0.6595 - val_accuracy: 0.8151 - lr: 1.0000e-04\n",
      "Epoch 3/50\n",
      "82/82 [==============================] - 20s 239ms/step - loss: 0.1912 - accuracy: 0.9411 - val_loss: 0.3302 - val_accuracy: 0.8906 - lr: 1.0000e-04\n",
      "Epoch 4/50\n",
      "82/82 [==============================] - 20s 241ms/step - loss: 0.0881 - accuracy: 0.9731 - val_loss: 0.1245 - val_accuracy: 0.9692 - lr: 1.0000e-04\n",
      "Epoch 5/50\n",
      "82/82 [==============================] - 20s 244ms/step - loss: 0.0429 - accuracy: 0.9869 - val_loss: 0.1287 - val_accuracy: 0.9630 - lr: 1.0000e-04\n",
      "Epoch 6/50\n",
      "82/82 [==============================] - 20s 239ms/step - loss: 0.1197 - accuracy: 0.9658 - val_loss: 0.0720 - val_accuracy: 0.9769 - lr: 1.0000e-04\n",
      "Epoch 7/50\n",
      "82/82 [==============================] - 20s 247ms/step - loss: 0.0427 - accuracy: 0.9869 - val_loss: 0.0389 - val_accuracy: 0.9923 - lr: 1.0000e-04\n",
      "Epoch 8/50\n",
      "82/82 [==============================] - 20s 247ms/step - loss: 0.0462 - accuracy: 0.9877 - val_loss: 0.2322 - val_accuracy: 0.9507 - lr: 1.0000e-04\n",
      "Epoch 9/50\n",
      "82/82 [==============================] - 19s 237ms/step - loss: 0.0666 - accuracy: 0.9808 - val_loss: 0.1022 - val_accuracy: 0.9846 - lr: 1.0000e-04\n",
      "Epoch 10/50\n",
      "82/82 [==============================] - 20s 238ms/step - loss: 0.0212 - accuracy: 0.9946 - val_loss: 0.0412 - val_accuracy: 0.9938 - lr: 1.0000e-04\n",
      "Epoch 11/50\n",
      "82/82 [==============================] - 20s 238ms/step - loss: 0.0019 - accuracy: 0.9996 - val_loss: 0.0420 - val_accuracy: 0.9938 - lr: 1.0000e-05\n",
      "Epoch 12/50\n",
      "82/82 [==============================] - 19s 237ms/step - loss: 5.8780e-04 - accuracy: 1.0000 - val_loss: 0.0411 - val_accuracy: 0.9969 - lr: 1.0000e-05\n",
      "Epoch 13/50\n",
      "82/82 [==============================] - 19s 237ms/step - loss: 9.2336e-04 - accuracy: 0.9996 - val_loss: 0.0402 - val_accuracy: 0.9938 - lr: 1.0000e-05\n",
      "Epoch 14/50\n",
      "82/82 [==============================] - 19s 237ms/step - loss: 5.3669e-04 - accuracy: 1.0000 - val_loss: 0.0405 - val_accuracy: 0.9954 - lr: 1.0000e-05\n",
      "Epoch 15/50\n",
      "82/82 [==============================] - 20s 241ms/step - loss: 4.6645e-04 - accuracy: 1.0000 - val_loss: 0.0409 - val_accuracy: 0.9954 - lr: 1.0000e-05\n",
      "Epoch 16/50\n",
      "82/82 [==============================] - 20s 244ms/step - loss: 3.7817e-04 - accuracy: 1.0000 - val_loss: 0.0427 - val_accuracy: 0.9969 - lr: 1.0000e-05\n",
      "Epoch 17/50\n",
      "82/82 [==============================] - 20s 244ms/step - loss: 2.8346e-04 - accuracy: 1.0000 - val_loss: 0.0417 - val_accuracy: 0.9954 - lr: 1.0000e-05\n"
     ]
    }
   ],
   "source": [
    "def train_final_model(model_builder, epochs=20):\n",
    "    # Crear el modelo final utilizando el modelo_builder\n",
    "    final_model = model_builder()\n",
    "\n",
    "    # Concatenar los datos de entrenamiento y validación\n",
    "    X = np.concatenate([x for x, y in train_data])\n",
    "    y = np.concatenate([y for x, y in train_data])\n",
    "\n",
    "    # Definir el callback de EarlyStopping y ReduceLROnPlateau\n",
    "    early_stopping = EarlyStopping(monitor='val_loss', patience=10, restore_best_weights=True)\n",
    "    reduce_lr = ReduceLROnPlateau(monitor='val_loss', factor=0.1, patience=3, min_lr=0.00001)\n",
    "\n",
    "    # Agregar los callbacks al método fit\n",
    "    callbacks = [early_stopping, reduce_lr]\n",
    "    final_model.fit(\n",
    "        X,\n",
    "        y, \n",
    "        epochs=epochs, \n",
    "        batch_size=batch_size, \n",
    "        validation_data=val_data, \n",
    "        callbacks=callbacks)\n",
    "\n",
    "    # Devolver el modelo final entrenado\n",
    "    return final_model\n",
    "\n",
    "# Entrenar el modelo final utilizando build_model y 50 epochs\n",
    "final_model = train_final_model(build_model,50)\n"
   ]
  },
  {
   "cell_type": "code",
   "execution_count": 8,
   "metadata": {},
   "outputs": [
    {
     "name": "stdout",
     "output_type": "stream",
     "text": [
      "26/26 [==============================] - 3s 108ms/step - loss: 0.0538 - accuracy: 0.9828\n",
      "Test Loss: 0.0538\n",
      "Test Accuracy: 0.9828\n",
      " 1/26 [>.............................] - ETA: 5s"
     ]
    },
    {
     "name": "stderr",
     "output_type": "stream",
     "text": [
      "2023-04-10 18:03:39.725192: I tensorflow/core/grappler/optimizers/custom_graph_optimizer_registry.cc:113] Plugin optimizer for device_type GPU is enabled.\n"
     ]
    },
    {
     "name": "stdout",
     "output_type": "stream",
     "text": [
      "26/26 [==============================] - 3s 109ms/step\n",
      "Classification Report:\n",
      "                                            precision    recall  f1-score   support\n",
      "\n",
      "                         Grape___Black_rot       0.96      0.99      0.97       236\n",
      "              Grape___Esca_(Black_Measles)       0.99      0.97      0.98       277\n",
      "Grape___Leaf_blight_(Isariopsis_Leaf_Spot)       1.00      0.99      1.00       216\n",
      "                           Grape___healthy       0.98      1.00      0.99        85\n",
      "\n",
      "                                  accuracy                           0.98       814\n",
      "                                 macro avg       0.98      0.99      0.98       814\n",
      "                              weighted avg       0.98      0.98      0.98       814\n",
      "\n",
      "Confusion Matrix:\n",
      "[[233   3   0   0]\n",
      " [  9 268   0   0]\n",
      " [  0   0 214   2]\n",
      " [  0   0   0  85]]\n"
     ]
    }
   ],
   "source": [
    "# Evaluar el modelo en el conjunto de prueba\n",
    "test_loss, test_accuracy = final_model.evaluate(test_data)\n",
    "print(f'Test Loss: {test_loss:.4f}')\n",
    "print(f'Test Accuracy: {test_accuracy:.4f}')\n",
    "\n",
    "# Predecir el conjunto de prueba\n",
    "Y_pred = final_model.predict(test_data)\n",
    "y_pred = np.argmax(Y_pred, axis=1)\n",
    "\n",
    "# Obtener las etiquetas del conjunto de prueba\n",
    "y_true = np.concatenate([y.numpy() for _, y in test_data.unbatch()])\n",
    "y_true_labels = np.argmax(y_true.reshape(-1, len(class_names)), axis=1)\n",
    "\n",
    "# Mostrar el informe de clasificación\n",
    "print('Classification Report:')\n",
    "print(classification_report(y_true_labels, y_pred, target_names=class_names))\n",
    "\n",
    "# Mostrar la matriz de confusión\n",
    "print('Confusion Matrix:')\n",
    "print(confusion_matrix(y_true_labels, y_pred))\n"
   ]
  }
 ],
 "metadata": {
  "kernelspec": {
   "display_name": "base",
   "language": "python",
   "name": "python3"
  },
  "language_info": {
   "codemirror_mode": {
    "name": "ipython",
    "version": 3
   },
   "file_extension": ".py",
   "mimetype": "text/x-python",
   "name": "python",
   "nbconvert_exporter": "python",
   "pygments_lexer": "ipython3",
   "version": "3.10.9"
  },
  "orig_nbformat": 4
 },
 "nbformat": 4,
 "nbformat_minor": 2
}
